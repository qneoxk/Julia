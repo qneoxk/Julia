{
 "cells": [
  {
   "cell_type": "markdown",
   "id": "47530fcc",
   "metadata": {},
   "source": [
    "# Julia Programlama dili hakkında "
   ]
  },
  {
   "cell_type": "markdown",
   "id": "65ef0368",
   "metadata": {},
   "source": [
    "1- Julia, bilimsel hesaplama amacıyla tasarlanmıştır. Bu nedenle matematiksel notasyona benzer kodlar yazılabilmektedir. "
   ]
  },
  {
   "cell_type": "markdown",
   "id": "70073224",
   "metadata": {},
   "source": [
    "2- Açık kaynak kodludur ve built-in (gömülü) fonksiyonların algoritmaları görülebilir. \n",
    "Sayı ve diğer veriler dahili olarak saklanır ve bunun için araçlar mevcuttur. "
   ]
  },
  {
   "cell_type": "markdown",
   "id": "9efc374e",
   "metadata": {},
   "source": [
    "3- Python ve R gibi kullanıcı dostu programlama dillerine kıyasla Julia, C kadar hızlı çalışna bir dildir. \n",
    "Hızlı olmasının nedeni, just-in-time, anında yorumlanan bir dil olmasıdır. "
   ]
  },
  {
   "cell_type": "markdown",
   "id": "88c947fc",
   "metadata": {},
   "source": [
    "4- Julia, C, C++, Python ve R gibi diğer dillerle arayüz oluşturmak için mükemmel araçlara sahiptir, \n",
    "böylece son birkaç on yılda geliştirilen bilimsel hesaplama kaynaklarının dağından yararlanabilir. \n",
    "(Tersine, gelecekte bir Python veya R ortamında çalışıyorsanız, bazı Julia kodları yazabilir ve bunları \n",
    "Python veya R programınızdan çağırabilirsiniz)."
   ]
  },
  {
   "cell_type": "markdown",
   "id": "1a3c3917",
   "metadata": {},
   "source": [
    "5- (Dezavantaj): Julia fonksiyonları ilk kez çağırıldığında çalışması biraz zaman almaktadır. Şu an\n",
    "tasarımcılar bu sorunu gidermek için çalışmaktadır. "
   ]
  },
  {
   "cell_type": "markdown",
   "id": "8848e0bc",
   "metadata": {},
   "source": [
    "6- (Dexavantaj) : Julia'da indeksleme 1' den başlar. Negatif indisler de tanımlıdır. "
   ]
  },
  {
   "cell_type": "markdown",
   "id": "86d52569",
   "metadata": {},
   "source": [
    "# Obje"
   ]
  },
  {
   "cell_type": "markdown",
   "id": "e29675f8",
   "metadata": {},
   "source": [
    "Nesne, bir program tarafından manipüle edilebilen temel bir varlıktır. Nesnelerin türleri vardır; örneğin 5 bir Int64 (başka bir deyişle 64 bitlik bir tamsayı) ve \"Merhaba dünya!\" bir String'dir. Değerler türlerine bağlı olarak farklı şekilde saklandığından, türler bilgisayarın takip etmesi için önemlidir. Bir değerin türünü typeof fonksiyonunu kullanarak kontrol edebilirsiniz: typeof(\"hello\") String döndürür."
   ]
  },
  {
   "cell_type": "markdown",
   "id": "9e7d0d9d",
   "metadata": {},
   "source": [
    "Değişken (variable) bir objeyi tanımlamak için kullanılan isimdir. "
   ]
  },
  {
   "cell_type": "markdown",
   "id": "c675f273",
   "metadata": {},
   "source": [
    "# Veri tipleri "
   ]
  },
  {
   "cell_type": "markdown",
   "id": "abbd7077",
   "metadata": {},
   "source": [
    "Sayılar: Sayısal bir değer, yan tam sayı (integer) ya da ondalıklı sayıdır (float). Julia'da integer ve float standart olarak 64 bit olarak tutulur. "
   ]
  },
  {
   "cell_type": "markdown",
   "id": "57797abd",
   "metadata": {},
   "source": [
    "Strginler: karakter veri tipidir. stringin boyunu öğrenmek amacıyla length() komutu kullanılabilir. "
   ]
  },
  {
   "cell_type": "code",
   "execution_count": null,
   "id": "c5778a81",
   "metadata": {},
   "outputs": [],
   "source": []
  }
 ],
 "metadata": {
  "kernelspec": {
   "display_name": "Julia 1.9.2",
   "language": "julia",
   "name": "julia-1.9"
  },
  "language_info": {
   "file_extension": ".jl",
   "mimetype": "application/julia",
   "name": "julia",
   "version": "1.9.2"
  }
 },
 "nbformat": 4,
 "nbformat_minor": 5
}
