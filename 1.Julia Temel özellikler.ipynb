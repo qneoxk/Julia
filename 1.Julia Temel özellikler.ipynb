{
 "cells": [
  {
   "cell_type": "markdown",
   "id": "34f24d6a",
   "metadata": {},
   "source": [
    "# Julia' da değişken tanımlama"
   ]
  },
  {
   "cell_type": "markdown",
   "id": "77d9dec6",
   "metadata": {},
   "source": [
    "Değişken tanımlamada standart kurallar geçerlidir ve büyük küçük harf duyarlılığı vardır. "
   ]
  },
  {
   "cell_type": "code",
   "execution_count": 1,
   "id": "e22e5698",
   "metadata": {},
   "outputs": [
    {
     "data": {
      "text/plain": [
       "8"
      ]
     },
     "execution_count": 1,
     "metadata": {},
     "output_type": "execute_result"
    }
   ],
   "source": [
    "x = 4\n",
    "y = 2\n",
    "x * y"
   ]
  },
  {
   "cell_type": "code",
   "execution_count": 2,
   "id": "6aa98fc1",
   "metadata": {},
   "outputs": [
    {
     "data": {
      "text/plain": [
       "8"
      ]
     },
     "execution_count": 2,
     "metadata": {},
     "output_type": "execute_result"
    }
   ],
   "source": [
    "x, y = 4, 2 \n",
    "\n",
    "x*y"
   ]
  },
  {
   "cell_type": "code",
   "execution_count": 3,
   "id": "b59cf920",
   "metadata": {},
   "outputs": [
    {
     "name": "stdout",
     "output_type": "stream",
     "text": [
      "4"
     ]
    }
   ],
   "source": [
    "print(x)"
   ]
  },
  {
   "cell_type": "code",
   "execution_count": 4,
   "id": "4bfe1bc7",
   "metadata": {},
   "outputs": [
    {
     "data": {
      "text/plain": [
       "π = 3.1415926535897..."
      ]
     },
     "execution_count": 4,
     "metadata": {},
     "output_type": "execute_result"
    }
   ],
   "source": [
    "pi"
   ]
  },
  {
   "cell_type": "code",
   "execution_count": 5,
   "id": "44b8beee",
   "metadata": {},
   "outputs": [
    {
     "data": {
      "text/plain": [
       "3"
      ]
     },
     "execution_count": 5,
     "metadata": {},
     "output_type": "execute_result"
    }
   ],
   "source": [
    "# % sayının bölümünden kalanı verir \n",
    "\n",
    "x = 8\n",
    "y = 5\n",
    "\n",
    "x % y"
   ]
  },
  {
   "cell_type": "markdown",
   "id": "508a9ea3",
   "metadata": {},
   "source": [
    "# Rasyonel sayılar"
   ]
  },
  {
   "cell_type": "code",
   "execution_count": 6,
   "id": "e997cdfe",
   "metadata": {},
   "outputs": [
    {
     "data": {
      "text/plain": [
       "1//3"
      ]
     },
     "execution_count": 6,
     "metadata": {},
     "output_type": "execute_result"
    }
   ],
   "source": [
    "1//3"
   ]
  },
  {
   "cell_type": "code",
   "execution_count": 7,
   "id": "fc301d49",
   "metadata": {},
   "outputs": [
    {
     "data": {
      "text/plain": [
       "1//1"
      ]
     },
     "execution_count": 7,
     "metadata": {},
     "output_type": "execute_result"
    }
   ],
   "source": [
    "(1//3) * 3"
   ]
  },
  {
   "cell_type": "code",
   "execution_count": 8,
   "id": "c8d2fb6f",
   "metadata": {},
   "outputs": [
    {
     "data": {
      "text/plain": [
       "10//3"
      ]
     },
     "execution_count": 8,
     "metadata": {},
     "output_type": "execute_result"
    }
   ],
   "source": [
    "10//3"
   ]
  },
  {
   "cell_type": "code",
   "execution_count": 9,
   "id": "9f087921",
   "metadata": {},
   "outputs": [
    {
     "data": {
      "text/plain": [
       "5//2"
      ]
     },
     "execution_count": 9,
     "metadata": {},
     "output_type": "execute_result"
    }
   ],
   "source": [
    "10//4"
   ]
  },
  {
   "cell_type": "markdown",
   "id": "c05e370f",
   "metadata": {},
   "source": [
    "# üs işlemleri "
   ]
  },
  {
   "cell_type": "code",
   "execution_count": 10,
   "id": "9f1640d2",
   "metadata": {},
   "outputs": [
    {
     "data": {
      "text/plain": [
       "64"
      ]
     },
     "execution_count": 10,
     "metadata": {},
     "output_type": "execute_result"
    }
   ],
   "source": [
    "x ^ 2"
   ]
  },
  {
   "cell_type": "code",
   "execution_count": 11,
   "id": "c7d89ef0",
   "metadata": {},
   "outputs": [
    {
     "data": {
      "text/plain": [
       "6.0"
      ]
     },
     "execution_count": 11,
     "metadata": {},
     "output_type": "execute_result"
    }
   ],
   "source": [
    "a = 36 \n",
    "a^(1/2) # sayının karekökü"
   ]
  },
  {
   "cell_type": "code",
   "execution_count": 12,
   "id": "fb88a20d",
   "metadata": {},
   "outputs": [
    {
     "data": {
      "text/plain": [
       "512"
      ]
     },
     "execution_count": 12,
     "metadata": {},
     "output_type": "execute_result"
    }
   ],
   "source": [
    "x^3"
   ]
  },
  {
   "cell_type": "code",
   "execution_count": 13,
   "id": "66e84f62",
   "metadata": {},
   "outputs": [
    {
     "data": {
      "text/plain": [
       "1.2968395546510096"
      ]
     },
     "execution_count": 13,
     "metadata": {},
     "output_type": "execute_result"
    }
   ],
   "source": [
    "x^(1/8)"
   ]
  },
  {
   "cell_type": "code",
   "execution_count": 14,
   "id": "2682e8f5",
   "metadata": {},
   "outputs": [
    {
     "data": {
      "text/plain": [
       "1.772453850905516"
      ]
     },
     "execution_count": 14,
     "metadata": {},
     "output_type": "execute_result"
    }
   ],
   "source": [
    "pi^(1/2)"
   ]
  },
  {
   "cell_type": "code",
   "execution_count": 15,
   "id": "55cc7431",
   "metadata": {},
   "outputs": [
    {
     "data": {
      "text/plain": [
       "1.7724538509055159"
      ]
     },
     "execution_count": 15,
     "metadata": {},
     "output_type": "execute_result"
    }
   ],
   "source": [
    "sqrt(pi) # sayının karekökü"
   ]
  },
  {
   "cell_type": "code",
   "execution_count": 16,
   "id": "88572da2",
   "metadata": {},
   "outputs": [
    {
     "data": {
      "text/plain": [
       "1.4645918875615231"
      ]
     },
     "execution_count": 16,
     "metadata": {},
     "output_type": "execute_result"
    }
   ],
   "source": [
    "cbrt(pi)  # sayının küpkökü"
   ]
  },
  {
   "cell_type": "code",
   "execution_count": 17,
   "id": "e2208a1d",
   "metadata": {},
   "outputs": [
    {
     "data": {
      "text/plain": [
       "3.141592653589793"
      ]
     },
     "execution_count": 17,
     "metadata": {},
     "output_type": "execute_result"
    }
   ],
   "source": [
    "cbrt(pi^3)"
   ]
  },
  {
   "cell_type": "markdown",
   "id": "c6bcdd15",
   "metadata": {},
   "source": [
    "# 10 tabanında üstel "
   ]
  },
  {
   "cell_type": "code",
   "execution_count": 18,
   "id": "e0ee62ec",
   "metadata": {},
   "outputs": [
    {
     "data": {
      "text/plain": [
       "1.0"
      ]
     },
     "execution_count": 18,
     "metadata": {},
     "output_type": "execute_result"
    }
   ],
   "source": [
    "exp10(0)"
   ]
  },
  {
   "cell_type": "code",
   "execution_count": 19,
   "id": "cf7a6c30",
   "metadata": {},
   "outputs": [
    {
     "data": {
      "text/plain": [
       "10.0"
      ]
     },
     "execution_count": 19,
     "metadata": {},
     "output_type": "execute_result"
    }
   ],
   "source": [
    "exp10(1)"
   ]
  },
  {
   "cell_type": "code",
   "execution_count": 20,
   "id": "b0d94b53",
   "metadata": {},
   "outputs": [
    {
     "data": {
      "text/plain": [
       "10000.0"
      ]
     },
     "execution_count": 20,
     "metadata": {},
     "output_type": "execute_result"
    }
   ],
   "source": [
    "exp10(4)"
   ]
  },
  {
   "cell_type": "code",
   "execution_count": 21,
   "id": "9fbf473c",
   "metadata": {},
   "outputs": [
    {
     "data": {
      "text/plain": [
       "1.0e-5"
      ]
     },
     "execution_count": 21,
     "metadata": {},
     "output_type": "execute_result"
    }
   ],
   "source": [
    "exp10(-5)"
   ]
  },
  {
   "cell_type": "markdown",
   "id": "18a1bce3",
   "metadata": {},
   "source": [
    "# 2 tabanında üstel"
   ]
  },
  {
   "cell_type": "code",
   "execution_count": 22,
   "id": "d8080ecc",
   "metadata": {},
   "outputs": [
    {
     "data": {
      "text/plain": [
       "1.0"
      ]
     },
     "execution_count": 22,
     "metadata": {},
     "output_type": "execute_result"
    }
   ],
   "source": [
    "exp2(0)"
   ]
  },
  {
   "cell_type": "code",
   "execution_count": 23,
   "id": "0ec92c21",
   "metadata": {},
   "outputs": [
    {
     "data": {
      "text/plain": [
       "4.0"
      ]
     },
     "execution_count": 23,
     "metadata": {},
     "output_type": "execute_result"
    }
   ],
   "source": [
    "exp2(2)"
   ]
  },
  {
   "cell_type": "code",
   "execution_count": 24,
   "id": "323149ef",
   "metadata": {},
   "outputs": [
    {
     "data": {
      "text/plain": [
       "16.0"
      ]
     },
     "execution_count": 24,
     "metadata": {},
     "output_type": "execute_result"
    }
   ],
   "source": [
    "exp2(4)"
   ]
  },
  {
   "cell_type": "code",
   "execution_count": 25,
   "id": "4170cd81",
   "metadata": {},
   "outputs": [
    {
     "data": {
      "text/plain": [
       "0.125"
      ]
     },
     "execution_count": 25,
     "metadata": {},
     "output_type": "execute_result"
    }
   ],
   "source": [
    "exp2(-3)"
   ]
  },
  {
   "cell_type": "markdown",
   "id": "51cadf47",
   "metadata": {},
   "source": [
    "# Bölme işlemi için fonksiyonlar"
   ]
  },
  {
   "cell_type": "code",
   "execution_count": 26,
   "id": "efb9ba04",
   "metadata": {},
   "outputs": [
    {
     "data": {
      "text/plain": [
       "1"
      ]
     },
     "execution_count": 26,
     "metadata": {},
     "output_type": "execute_result"
    }
   ],
   "source": [
    "div(8,5) # bölümü sıfıra doğru yuvarlar"
   ]
  },
  {
   "cell_type": "code",
   "execution_count": 27,
   "id": "12c650e3",
   "metadata": {},
   "outputs": [
    {
     "data": {
      "text/plain": [
       "1"
      ]
     },
     "execution_count": 27,
     "metadata": {},
     "output_type": "execute_result"
    }
   ],
   "source": [
    "fld(8,5) # bölümü en küçük tam sayıya yuvarlar (-sonsuza doğru)"
   ]
  },
  {
   "cell_type": "code",
   "execution_count": 28,
   "id": "dfdb1859",
   "metadata": {},
   "outputs": [
    {
     "data": {
      "text/plain": [
       "2"
      ]
     },
     "execution_count": 28,
     "metadata": {},
     "output_type": "execute_result"
    }
   ],
   "source": [
    "cld(8,5) # bölümü en büyük tam sayıya yuvarlar (+sonsuza doğru)"
   ]
  },
  {
   "cell_type": "code",
   "execution_count": 29,
   "id": "756f55d1",
   "metadata": {},
   "outputs": [
    {
     "data": {
      "text/plain": [
       "3"
      ]
     },
     "execution_count": 29,
     "metadata": {},
     "output_type": "execute_result"
    }
   ],
   "source": [
    "rem(8,5) # bölümden kalanı verir"
   ]
  },
  {
   "cell_type": "code",
   "execution_count": 30,
   "id": "77870bab",
   "metadata": {},
   "outputs": [
    {
     "data": {
      "text/plain": [
       "3"
      ]
     },
     "execution_count": 30,
     "metadata": {},
     "output_type": "execute_result"
    }
   ],
   "source": [
    "mod(8,5) "
   ]
  },
  {
   "cell_type": "code",
   "execution_count": 31,
   "id": "3878699c",
   "metadata": {},
   "outputs": [
    {
     "data": {
      "text/plain": [
       "(1, 3)"
      ]
     },
     "execution_count": 31,
     "metadata": {},
     "output_type": "execute_result"
    }
   ],
   "source": [
    "divrem(8,5) # bölüm ve kalanı birlikte verir "
   ]
  },
  {
   "cell_type": "code",
   "execution_count": 32,
   "id": "4480f743",
   "metadata": {},
   "outputs": [
    {
     "data": {
      "text/plain": [
       "(2, 0)"
      ]
     },
     "execution_count": 32,
     "metadata": {},
     "output_type": "execute_result"
    }
   ],
   "source": [
    "divrem(10,5)"
   ]
  },
  {
   "cell_type": "code",
   "execution_count": 33,
   "id": "d1ec8c99",
   "metadata": {},
   "outputs": [
    {
     "data": {
      "text/plain": [
       "(1, 3)"
      ]
     },
     "execution_count": 33,
     "metadata": {},
     "output_type": "execute_result"
    }
   ],
   "source": [
    "fldmod(8,5) # bölüm ve modunu birlikte verir"
   ]
  },
  {
   "cell_type": "code",
   "execution_count": 34,
   "id": "cded9729",
   "metadata": {},
   "outputs": [
    {
     "data": {
      "text/plain": [
       "(2, 0)"
      ]
     },
     "execution_count": 34,
     "metadata": {},
     "output_type": "execute_result"
    }
   ],
   "source": [
    "fldmod(10,5)"
   ]
  },
  {
   "cell_type": "code",
   "execution_count": 35,
   "id": "4c91e46b",
   "metadata": {},
   "outputs": [
    {
     "data": {
      "text/plain": [
       "2"
      ]
     },
     "execution_count": 35,
     "metadata": {},
     "output_type": "execute_result"
    }
   ],
   "source": [
    "gcd(100, 20, 2) # en büyük ortak böleni bulur"
   ]
  },
  {
   "cell_type": "code",
   "execution_count": 36,
   "id": "ccce0013",
   "metadata": {},
   "outputs": [
    {
     "data": {
      "text/plain": [
       "1"
      ]
     },
     "execution_count": 36,
     "metadata": {},
     "output_type": "execute_result"
    }
   ],
   "source": [
    "gcd(100, 20, 1)"
   ]
  },
  {
   "cell_type": "code",
   "execution_count": 37,
   "id": "5fd60b23",
   "metadata": {},
   "outputs": [
    {
     "data": {
      "text/plain": [
       "100"
      ]
     },
     "execution_count": 37,
     "metadata": {},
     "output_type": "execute_result"
    }
   ],
   "source": [
    "lcm(100, 20, 2) # en büyük ortak çarpanı bulur"
   ]
  },
  {
   "cell_type": "code",
   "execution_count": 38,
   "id": "e13c46c8",
   "metadata": {},
   "outputs": [
    {
     "data": {
      "text/plain": [
       "180"
      ]
     },
     "execution_count": 38,
     "metadata": {},
     "output_type": "execute_result"
    }
   ],
   "source": [
    "lcm(90, 20, 2)"
   ]
  },
  {
   "cell_type": "code",
   "execution_count": null,
   "id": "16dc01fa",
   "metadata": {},
   "outputs": [],
   "source": []
  },
  {
   "cell_type": "markdown",
   "id": "bb4dc007",
   "metadata": {},
   "source": [
    "# değişken tipinin sorgulanması"
   ]
  },
  {
   "cell_type": "code",
   "execution_count": 39,
   "id": "14a6131c",
   "metadata": {},
   "outputs": [
    {
     "data": {
      "text/plain": [
       "Int64"
      ]
     },
     "execution_count": 39,
     "metadata": {},
     "output_type": "execute_result"
    }
   ],
   "source": [
    "typeof(x)"
   ]
  },
  {
   "cell_type": "code",
   "execution_count": 40,
   "id": "ab459622",
   "metadata": {},
   "outputs": [
    {
     "data": {
      "text/plain": [
       "Float64"
      ]
     },
     "execution_count": 40,
     "metadata": {},
     "output_type": "execute_result"
    }
   ],
   "source": [
    "typeof(cos(x))"
   ]
  },
  {
   "cell_type": "code",
   "execution_count": 41,
   "id": "329a00ec",
   "metadata": {},
   "outputs": [
    {
     "data": {
      "text/plain": [
       "typeof(cos) (singleton type of function cos, subtype of Function)"
      ]
     },
     "execution_count": 41,
     "metadata": {},
     "output_type": "execute_result"
    }
   ],
   "source": [
    "typeof(cos)"
   ]
  },
  {
   "cell_type": "code",
   "execution_count": 42,
   "id": "e5994c6e",
   "metadata": {},
   "outputs": [
    {
     "data": {
      "text/plain": [
       "Irrational{:π}"
      ]
     },
     "execution_count": 42,
     "metadata": {},
     "output_type": "execute_result"
    }
   ],
   "source": [
    "typeof(pi)"
   ]
  },
  {
   "cell_type": "code",
   "execution_count": 43,
   "id": "df50ec66",
   "metadata": {},
   "outputs": [
    {
     "ename": "LoadError",
     "evalue": "UndefVarError: `e` not defined",
     "output_type": "error",
     "traceback": [
      "UndefVarError: `e` not defined",
      "",
      "Stacktrace:",
      " [1] top-level scope",
      "   @ In[43]:1"
     ]
    }
   ],
   "source": [
    "typeof(e)"
   ]
  },
  {
   "cell_type": "markdown",
   "id": "433199d2",
   "metadata": {},
   "source": [
    "# Temel Matematik fonksiyonları "
   ]
  },
  {
   "cell_type": "markdown",
   "id": "741ead1b",
   "metadata": {},
   "source": [
    "# üstel fonksiyon"
   ]
  },
  {
   "cell_type": "code",
   "execution_count": 44,
   "id": "33b37c94",
   "metadata": {},
   "outputs": [
    {
     "data": {
      "text/plain": [
       "2.718281828459045"
      ]
     },
     "execution_count": 44,
     "metadata": {},
     "output_type": "execute_result"
    }
   ],
   "source": [
    "e = exp(1) # Euler sabiti\n",
    "e"
   ]
  },
  {
   "cell_type": "code",
   "execution_count": 45,
   "id": "17a25871",
   "metadata": {},
   "outputs": [
    {
     "data": {
      "text/plain": [
       "1.0"
      ]
     },
     "execution_count": 45,
     "metadata": {},
     "output_type": "execute_result"
    }
   ],
   "source": [
    "exp(0)"
   ]
  },
  {
   "cell_type": "code",
   "execution_count": 46,
   "id": "43c29f3c",
   "metadata": {},
   "outputs": [
    {
     "data": {
      "text/plain": [
       "2.718281828459045"
      ]
     },
     "execution_count": 46,
     "metadata": {},
     "output_type": "execute_result"
    }
   ],
   "source": [
    "exp(1)"
   ]
  },
  {
   "cell_type": "code",
   "execution_count": 47,
   "id": "a7408f02",
   "metadata": {},
   "outputs": [
    {
     "data": {
      "text/plain": [
       "54.598150033144236"
      ]
     },
     "execution_count": 47,
     "metadata": {},
     "output_type": "execute_result"
    }
   ],
   "source": [
    "exp(4)"
   ]
  },
  {
   "cell_type": "code",
   "execution_count": 48,
   "id": "a71d184a",
   "metadata": {},
   "outputs": [
    {
     "data": {
      "text/plain": [
       "0.1353352832366127"
      ]
     },
     "execution_count": 48,
     "metadata": {},
     "output_type": "execute_result"
    }
   ],
   "source": [
    "exp(-2)"
   ]
  },
  {
   "cell_type": "markdown",
   "id": "b63efd51",
   "metadata": {},
   "source": [
    "# expm1(x)"
   ]
  },
  {
   "cell_type": "code",
   "execution_count": 49,
   "id": "c4b434b9",
   "metadata": {},
   "outputs": [],
   "source": [
    "# exp(x) - 1 için expm1(x)"
   ]
  },
  {
   "cell_type": "code",
   "execution_count": 50,
   "id": "f0f96e18",
   "metadata": {},
   "outputs": [
    {
     "data": {
      "text/plain": [
       "0.0"
      ]
     },
     "execution_count": 50,
     "metadata": {},
     "output_type": "execute_result"
    }
   ],
   "source": [
    "expm1(0)"
   ]
  },
  {
   "cell_type": "code",
   "execution_count": 51,
   "id": "ae3a3e21",
   "metadata": {},
   "outputs": [
    {
     "data": {
      "text/plain": [
       "1.7182818284590453"
      ]
     },
     "execution_count": 51,
     "metadata": {},
     "output_type": "execute_result"
    }
   ],
   "source": [
    "expm1(1)"
   ]
  },
  {
   "cell_type": "code",
   "execution_count": 52,
   "id": "cf37dc6f",
   "metadata": {},
   "outputs": [
    {
     "data": {
      "text/plain": [
       "1.718281828459045"
      ]
     },
     "execution_count": 52,
     "metadata": {},
     "output_type": "execute_result"
    }
   ],
   "source": [
    "exp(1)-1"
   ]
  },
  {
   "cell_type": "code",
   "execution_count": 53,
   "id": "f24e42e3",
   "metadata": {},
   "outputs": [
    {
     "data": {
      "text/plain": [
       "6.38905609893065"
      ]
     },
     "execution_count": 53,
     "metadata": {},
     "output_type": "execute_result"
    }
   ],
   "source": [
    "expm1(2)"
   ]
  },
  {
   "cell_type": "code",
   "execution_count": 54,
   "id": "356b49c9",
   "metadata": {},
   "outputs": [
    {
     "data": {
      "text/plain": [
       "-0.8646647167633873"
      ]
     },
     "execution_count": 54,
     "metadata": {},
     "output_type": "execute_result"
    }
   ],
   "source": [
    "expm1(-2)"
   ]
  },
  {
   "cell_type": "code",
   "execution_count": 55,
   "id": "e62fccca",
   "metadata": {},
   "outputs": [
    {
     "data": {
      "text/plain": [
       "-0.8646647167633873"
      ]
     },
     "execution_count": 55,
     "metadata": {},
     "output_type": "execute_result"
    }
   ],
   "source": [
    "exp(-2)-1"
   ]
  },
  {
   "cell_type": "markdown",
   "id": "86affe4c",
   "metadata": {},
   "source": [
    "# Trigonometrik fonksiyonlar "
   ]
  },
  {
   "cell_type": "markdown",
   "id": "d029c799",
   "metadata": {},
   "source": [
    "Trigonometrik fonksiyonlar birçok programalama dilinde olduğu gibi radyan biriminde çalışır. "
   ]
  },
  {
   "cell_type": "code",
   "execution_count": 56,
   "id": "a8097286",
   "metadata": {},
   "outputs": [
    {
     "data": {
      "text/plain": [
       "1.5707963267948966"
      ]
     },
     "execution_count": 56,
     "metadata": {},
     "output_type": "execute_result"
    }
   ],
   "source": [
    "deg2rad(90) # dereceden radyana dönüştürme"
   ]
  },
  {
   "cell_type": "code",
   "execution_count": 57,
   "id": "09949f9b",
   "metadata": {},
   "outputs": [
    {
     "data": {
      "text/plain": [
       "6.123233995736766e-17"
      ]
     },
     "execution_count": 57,
     "metadata": {},
     "output_type": "execute_result"
    }
   ],
   "source": [
    "cos(deg2rad(90))"
   ]
  },
  {
   "cell_type": "code",
   "execution_count": 58,
   "id": "db324b23",
   "metadata": {},
   "outputs": [
    {
     "data": {
      "text/plain": [
       "6.123233995736766e-17"
      ]
     },
     "execution_count": 58,
     "metadata": {},
     "output_type": "execute_result"
    }
   ],
   "source": [
    "abs(cos(deg2rad(90)))"
   ]
  },
  {
   "cell_type": "code",
   "execution_count": 59,
   "id": "e2511df4",
   "metadata": {},
   "outputs": [
    {
     "data": {
      "text/plain": [
       "6.123233995736766e-17"
      ]
     },
     "execution_count": 59,
     "metadata": {},
     "output_type": "execute_result"
    }
   ],
   "source": [
    "cos(90 * pi/180)"
   ]
  },
  {
   "cell_type": "code",
   "execution_count": 60,
   "id": "59c45441",
   "metadata": {},
   "outputs": [
    {
     "data": {
      "text/plain": [
       "0.0"
      ]
     },
     "execution_count": 60,
     "metadata": {},
     "output_type": "execute_result"
    }
   ],
   "source": [
    "round(cos(90 * pi/180))"
   ]
  },
  {
   "cell_type": "code",
   "execution_count": 61,
   "id": "f030322b",
   "metadata": {},
   "outputs": [
    {
     "data": {
      "text/plain": [
       "1.5707963267948966"
      ]
     },
     "execution_count": 61,
     "metadata": {},
     "output_type": "execute_result"
    }
   ],
   "source": [
    "acos(0)"
   ]
  },
  {
   "cell_type": "code",
   "execution_count": 62,
   "id": "8f8a4ebe",
   "metadata": {},
   "outputs": [
    {
     "data": {
      "text/plain": [
       "90.0"
      ]
     },
     "execution_count": 62,
     "metadata": {},
     "output_type": "execute_result"
    }
   ],
   "source": [
    "rad2deg(acos(0)) # radyandan dereceye dönüştürme"
   ]
  },
  {
   "cell_type": "markdown",
   "id": "84e36192",
   "metadata": {},
   "source": [
    "# inv() sayının çarpmaya göre tersi "
   ]
  },
  {
   "cell_type": "code",
   "execution_count": 63,
   "id": "aea6b756",
   "metadata": {},
   "outputs": [
    {
     "data": {
      "text/plain": [
       "0.125"
      ]
     },
     "execution_count": 63,
     "metadata": {},
     "output_type": "execute_result"
    }
   ],
   "source": [
    "inv(x) # sayının çarpmaya göre tersi "
   ]
  },
  {
   "cell_type": "code",
   "execution_count": 64,
   "id": "99f90f29",
   "metadata": {},
   "outputs": [
    {
     "data": {
      "text/plain": [
       "1.0"
      ]
     },
     "execution_count": 64,
     "metadata": {},
     "output_type": "execute_result"
    }
   ],
   "source": [
    "x * inv(x) "
   ]
  },
  {
   "cell_type": "code",
   "execution_count": 65,
   "id": "c1860355",
   "metadata": {},
   "outputs": [
    {
     "data": {
      "text/plain": [
       "4.0"
      ]
     },
     "execution_count": 65,
     "metadata": {},
     "output_type": "execute_result"
    }
   ],
   "source": [
    "inv(0.25)"
   ]
  },
  {
   "cell_type": "code",
   "execution_count": 66,
   "id": "fb95057b",
   "metadata": {},
   "outputs": [
    {
     "data": {
      "text/plain": [
       "16.0"
      ]
     },
     "execution_count": 66,
     "metadata": {},
     "output_type": "execute_result"
    }
   ],
   "source": [
    "inv(0.25)^2"
   ]
  },
  {
   "cell_type": "markdown",
   "id": "f8067497",
   "metadata": {},
   "source": [
    "# Logaritma Fonksiyonu"
   ]
  },
  {
   "cell_type": "code",
   "execution_count": 67,
   "id": "3839753f",
   "metadata": {},
   "outputs": [
    {
     "data": {
      "text/plain": [
       "2.302585092994046"
      ]
     },
     "execution_count": 67,
     "metadata": {},
     "output_type": "execute_result"
    }
   ],
   "source": [
    "log(10) # ln = Log_e tabanı"
   ]
  },
  {
   "cell_type": "code",
   "execution_count": 68,
   "id": "2bcc4716",
   "metadata": {},
   "outputs": [
    {
     "data": {
      "text/plain": [
       "2.302585092994046"
      ]
     },
     "execution_count": 68,
     "metadata": {},
     "output_type": "execute_result"
    }
   ],
   "source": [
    "log(e,10)"
   ]
  },
  {
   "cell_type": "code",
   "execution_count": 69,
   "id": "e7501eb0",
   "metadata": {},
   "outputs": [
    {
     "data": {
      "text/plain": [
       "1.0"
      ]
     },
     "execution_count": 69,
     "metadata": {},
     "output_type": "execute_result"
    }
   ],
   "source": [
    "log(e,e)"
   ]
  },
  {
   "cell_type": "code",
   "execution_count": 70,
   "id": "8f25e695",
   "metadata": {},
   "outputs": [
    {
     "data": {
      "text/plain": [
       "2.718281828459045"
      ]
     },
     "execution_count": 70,
     "metadata": {},
     "output_type": "execute_result"
    }
   ],
   "source": [
    "e"
   ]
  },
  {
   "cell_type": "code",
   "execution_count": 71,
   "id": "81633376",
   "metadata": {},
   "outputs": [
    {
     "data": {
      "text/plain": [
       "1.0"
      ]
     },
     "execution_count": 71,
     "metadata": {},
     "output_type": "execute_result"
    }
   ],
   "source": [
    "log(10,10)"
   ]
  },
  {
   "cell_type": "code",
   "execution_count": 72,
   "id": "dc5e2a3e",
   "metadata": {},
   "outputs": [
    {
     "data": {
      "text/plain": [
       "2.9999999999999996"
      ]
     },
     "execution_count": 72,
     "metadata": {},
     "output_type": "execute_result"
    }
   ],
   "source": [
    "log(10,1000)"
   ]
  },
  {
   "cell_type": "code",
   "execution_count": 73,
   "id": "baa62f26",
   "metadata": {},
   "outputs": [
    {
     "data": {
      "text/plain": [
       "2.0"
      ]
     },
     "execution_count": 73,
     "metadata": {},
     "output_type": "execute_result"
    }
   ],
   "source": [
    "log(2,4)"
   ]
  },
  {
   "cell_type": "code",
   "execution_count": 74,
   "id": "33a15bfb",
   "metadata": {},
   "outputs": [
    {
     "data": {
      "text/plain": [
       "2.0"
      ]
     },
     "execution_count": 74,
     "metadata": {},
     "output_type": "execute_result"
    }
   ],
   "source": [
    "log2(4)"
   ]
  },
  {
   "cell_type": "code",
   "execution_count": 75,
   "id": "3a40ab09",
   "metadata": {},
   "outputs": [
    {
     "data": {
      "text/plain": [
       "1.0"
      ]
     },
     "execution_count": 75,
     "metadata": {},
     "output_type": "execute_result"
    }
   ],
   "source": [
    "log1p(e-1) # log(1+x) anlamındadır"
   ]
  },
  {
   "cell_type": "markdown",
   "id": "5167ad68",
   "metadata": {},
   "source": [
    "# kompleks sayılar"
   ]
  },
  {
   "cell_type": "code",
   "execution_count": 76,
   "id": "bb40c299",
   "metadata": {},
   "outputs": [
    {
     "name": "stdout",
     "output_type": "stream",
     "text": [
      "2 + 2im"
     ]
    }
   ],
   "source": [
    "a = 2 + 2im\n",
    "print(a)"
   ]
  },
  {
   "cell_type": "code",
   "execution_count": 77,
   "id": "b6c31110",
   "metadata": {},
   "outputs": [
    {
     "data": {
      "text/plain": [
       "Complex{Int64}"
      ]
     },
     "execution_count": 77,
     "metadata": {},
     "output_type": "execute_result"
    }
   ],
   "source": [
    "typeof(a)"
   ]
  },
  {
   "cell_type": "code",
   "execution_count": 78,
   "id": "9466349e",
   "metadata": {},
   "outputs": [
    {
     "data": {
      "text/plain": [
       "8 + 0im"
      ]
     },
     "execution_count": 78,
     "metadata": {},
     "output_type": "execute_result"
    }
   ],
   "source": [
    "a * conj(a)"
   ]
  },
  {
   "cell_type": "code",
   "execution_count": 79,
   "id": "b026f3a9",
   "metadata": {},
   "outputs": [
    {
     "data": {
      "text/plain": [
       "2"
      ]
     },
     "execution_count": 79,
     "metadata": {},
     "output_type": "execute_result"
    }
   ],
   "source": [
    "real(a) # complex sayının reel parçası "
   ]
  },
  {
   "cell_type": "code",
   "execution_count": 80,
   "id": "4db38693",
   "metadata": {},
   "outputs": [
    {
     "data": {
      "text/plain": [
       "2"
      ]
     },
     "execution_count": 80,
     "metadata": {},
     "output_type": "execute_result"
    }
   ],
   "source": [
    "imag(a) # complex sayının imajiner parçası "
   ]
  },
  {
   "cell_type": "code",
   "execution_count": 81,
   "id": "bdede90a",
   "metadata": {},
   "outputs": [
    {
     "data": {
      "text/plain": [
       "2 - 2im"
      ]
     },
     "execution_count": 81,
     "metadata": {},
     "output_type": "execute_result"
    }
   ],
   "source": [
    "conj(a) # komplex sayının eşleniği "
   ]
  },
  {
   "cell_type": "code",
   "execution_count": 82,
   "id": "c3c1bcc8",
   "metadata": {},
   "outputs": [
    {
     "data": {
      "text/plain": [
       "2.8284271247461903"
      ]
     },
     "execution_count": 82,
     "metadata": {},
     "output_type": "execute_result"
    }
   ],
   "source": [
    "abs(a) # a'nın mulak değeri"
   ]
  },
  {
   "cell_type": "code",
   "execution_count": 83,
   "id": "f5cf9a07",
   "metadata": {},
   "outputs": [
    {
     "data": {
      "text/plain": [
       "2.8284271247461903"
      ]
     },
     "execution_count": 83,
     "metadata": {},
     "output_type": "execute_result"
    }
   ],
   "source": [
    "sqrt(8)"
   ]
  },
  {
   "cell_type": "code",
   "execution_count": 84,
   "id": "169be223",
   "metadata": {},
   "outputs": [
    {
     "data": {
      "text/plain": [
       "8"
      ]
     },
     "execution_count": 84,
     "metadata": {},
     "output_type": "execute_result"
    }
   ],
   "source": [
    "abs2(a) # mutlak değerin karesi "
   ]
  },
  {
   "cell_type": "code",
   "execution_count": 85,
   "id": "09507ae0",
   "metadata": {},
   "outputs": [
    {
     "data": {
      "text/plain": [
       "0.7853981633974483"
      ]
     },
     "execution_count": 85,
     "metadata": {},
     "output_type": "execute_result"
    }
   ],
   "source": [
    "angle(a) #radyan biriminde faz açısı"
   ]
  },
  {
   "cell_type": "code",
   "execution_count": 86,
   "id": "7248e8e3",
   "metadata": {},
   "outputs": [
    {
     "data": {
      "text/plain": [
       "45.0"
      ]
     },
     "execution_count": 86,
     "metadata": {},
     "output_type": "execute_result"
    }
   ],
   "source": [
    "angle(a) * 180 / pi # derece biriminde faz açısı"
   ]
  },
  {
   "cell_type": "code",
   "execution_count": 87,
   "id": "539deafb",
   "metadata": {},
   "outputs": [
    {
     "data": {
      "text/plain": [
       "0.7071067811865476 - 0.7071067811865475im"
      ]
     },
     "execution_count": 87,
     "metadata": {},
     "output_type": "execute_result"
    }
   ],
   "source": [
    "sqrt(-1im)"
   ]
  },
  {
   "cell_type": "code",
   "execution_count": 88,
   "id": "032ec761",
   "metadata": {},
   "outputs": [
    {
     "data": {
      "text/plain": [
       "1.7989074399478673 + 1.1117859405028423im"
      ]
     },
     "execution_count": 88,
     "metadata": {},
     "output_type": "execute_result"
    }
   ],
   "source": [
    "sqrt(2+4im)"
   ]
  },
  {
   "cell_type": "code",
   "execution_count": 89,
   "id": "2f39a482",
   "metadata": {},
   "outputs": [
    {
     "data": {
      "text/plain": [
       "0.5403023058681398 - 0.8414709848078965im"
      ]
     },
     "execution_count": 89,
     "metadata": {},
     "output_type": "execute_result"
    }
   ],
   "source": [
    "exp(-im)"
   ]
  },
  {
   "cell_type": "code",
   "execution_count": 90,
   "id": "8935f7d5",
   "metadata": {},
   "outputs": [
    {
     "data": {
      "text/plain": [
       "2 + 2im"
      ]
     },
     "execution_count": 90,
     "metadata": {},
     "output_type": "execute_result"
    }
   ],
   "source": [
    "a"
   ]
  },
  {
   "cell_type": "code",
   "execution_count": 91,
   "id": "c2a1c34a",
   "metadata": {},
   "outputs": [
    {
     "data": {
      "text/plain": [
       "0.25 - 0.25im"
      ]
     },
     "execution_count": 91,
     "metadata": {},
     "output_type": "execute_result"
    }
   ],
   "source": [
    "inv(a)"
   ]
  },
  {
   "cell_type": "code",
   "execution_count": 92,
   "id": "4380303b",
   "metadata": {},
   "outputs": [
    {
     "data": {
      "text/plain": [
       "1.0 + 0.0im"
      ]
     },
     "execution_count": 92,
     "metadata": {},
     "output_type": "execute_result"
    }
   ],
   "source": [
    "a * inv(a)"
   ]
  },
  {
   "cell_type": "markdown",
   "id": "9842e96b",
   "metadata": {},
   "source": [
    "# print fonksiyonun özellikleri"
   ]
  },
  {
   "cell_type": "code",
   "execution_count": 93,
   "id": "830a5b01",
   "metadata": {},
   "outputs": [
    {
     "name": "stdout",
     "output_type": "stream",
     "text": [
      "Merhaba"
     ]
    }
   ],
   "source": [
    "print(\"Merhaba\")"
   ]
  },
  {
   "cell_type": "code",
   "execution_count": 94,
   "id": "d947363a",
   "metadata": {},
   "outputs": [
    {
     "name": "stdout",
     "output_type": "stream",
     "text": [
      "merhaba \n",
      "minik"
     ]
    }
   ],
   "source": [
    "print(\"merhaba \\nminik\")"
   ]
  },
  {
   "cell_type": "code",
   "execution_count": 95,
   "id": "fa3e471d",
   "metadata": {},
   "outputs": [
    {
     "name": "stdout",
     "output_type": "stream",
     "text": [
      "x + y = 13"
     ]
    }
   ],
   "source": [
    "x, y = 4, 9\n",
    "\n",
    "print(\"x + y = $(x+y)\")"
   ]
  },
  {
   "cell_type": "code",
   "execution_count": 96,
   "id": "c5f423a2",
   "metadata": {},
   "outputs": [
    {
     "name": "stdout",
     "output_type": "stream",
     "text": [
      "pi' nin kosinüsü = -1.0"
     ]
    }
   ],
   "source": [
    "u = cos(deg2rad(180))\n",
    "\n",
    "print(\"pi' nin kosinüsü = $u\")"
   ]
  },
  {
   "cell_type": "code",
   "execution_count": 97,
   "id": "cae787de",
   "metadata": {},
   "outputs": [
    {
     "name": "stdout",
     "output_type": "stream",
     "text": [
      "\u001b[31mHello World red\u001b[39m\n",
      "\u001b[36mHello World cyan\u001b[39m\n",
      "\u001b[34mHello World blue\u001b[39m\n",
      "\u001b[35mHello World magenta\u001b[39m\n",
      "\u001b[30mHello World black\u001b[39m\n",
      "\u001b[32mHello World green\u001b[39m\n",
      "\u001b[33mHello World yellow\u001b[39m\n"
     ]
    }
   ],
   "source": [
    "for color in [:red, :cyan, :blue, :magenta, :black, :green, :yellow]\n",
    "    printstyled(\"Hello World $(color)\\n\"; color = color)\n",
    "end"
   ]
  },
  {
   "cell_type": "markdown",
   "id": "a40bdb8c",
   "metadata": {},
   "source": [
    "println() Julia console çıkışında çıkışın sonunda bir satır boşluk bırakır. "
   ]
  },
  {
   "cell_type": "code",
   "execution_count": 98,
   "id": "c92eb1fd",
   "metadata": {},
   "outputs": [
    {
     "name": "stdout",
     "output_type": "stream",
     "text": [
      "Vatanını en çok seven görevini en iyi yapandır.\n",
      "Kemal Atatürk"
     ]
    }
   ],
   "source": [
    "x = \"Vatanını en çok seven görevini en iyi yapandır.\\nKemal Atatürk\";\n",
    "print(x)"
   ]
  },
  {
   "cell_type": "markdown",
   "id": "8842ac72",
   "metadata": {},
   "source": [
    "# printf"
   ]
  },
  {
   "cell_type": "code",
   "execution_count": 99,
   "id": "17bd5956",
   "metadata": {},
   "outputs": [],
   "source": [
    "using Printf"
   ]
  },
  {
   "cell_type": "code",
   "execution_count": 100,
   "id": "2181516e",
   "metadata": {},
   "outputs": [
    {
     "name": "stdout",
     "output_type": "stream",
     "text": [
      "pi = 3.14159265358979311600"
     ]
    }
   ],
   "source": [
    "@printf(\"pi = %0.20f\", float(pi))"
   ]
  },
  {
   "cell_type": "code",
   "execution_count": 101,
   "id": "c322d4a2",
   "metadata": {},
   "outputs": [
    {
     "name": "stdout",
     "output_type": "stream",
     "text": [
      "pi = 3.14159265358979311599796346854418516159057617187500"
     ]
    }
   ],
   "source": [
    "@printf(\"pi = %0.50f\", float(pi))"
   ]
  },
  {
   "cell_type": "code",
   "execution_count": null,
   "id": "1db5a743",
   "metadata": {},
   "outputs": [],
   "source": []
  },
  {
   "cell_type": "code",
   "execution_count": 102,
   "id": "f2b8d98f",
   "metadata": {},
   "outputs": [
    {
     "name": "stdout",
     "output_type": "stream",
     "text": [
      "Merhaba Dünya (ya da Yerküre ya da earth)"
     ]
    }
   ],
   "source": [
    "@printf \"Merhaba %s\" \"Dünya (ya da Yerküre ya da earth)\""
   ]
  },
  {
   "cell_type": "code",
   "execution_count": 103,
   "id": "b1172897",
   "metadata": {},
   "outputs": [
    {
     "name": "stdout",
     "output_type": "stream",
     "text": [
      "Bilimsel Notasyon: 3.141593e+00"
     ]
    }
   ],
   "source": [
    "@printf \"Bilimsel Notasyon: %e\" pi"
   ]
  },
  {
   "cell_type": "code",
   "execution_count": 104,
   "id": "bfbcc279",
   "metadata": {},
   "outputs": [
    {
     "name": "stdout",
     "output_type": "stream",
     "text": [
      "noktadan sonra 3 basamak ile bilimsel notasyon: 3.142e+00"
     ]
    }
   ],
   "source": [
    "@printf \"noktadan sonra 3 basamak ile bilimsel notasyon: %.3e\" pi"
   ]
  },
  {
   "cell_type": "code",
   "execution_count": 105,
   "id": "4cedcfb9",
   "metadata": {},
   "outputs": [
    {
     "name": "stdout",
     "output_type": "stream",
     "text": [
      "noktadan sonra iki basamak ile :  3.14"
     ]
    }
   ],
   "source": [
    "@printf \"noktadan sonra iki basamak ile :  %.2f\" pi"
   ]
  },
  {
   "cell_type": "code",
   "execution_count": 106,
   "id": "00537c3f",
   "metadata": {},
   "outputs": [
    {
     "name": "stdout",
     "output_type": "stream",
     "text": [
      "6 basamaklı integer, rakam yoksa 0 ile doldurulur \n",
      "000123"
     ]
    }
   ],
   "source": [
    "@printf \"6 basamaklı integer, rakam yoksa 0 ile doldurulur \\n%06i\" 123.022"
   ]
  },
  {
   "cell_type": "code",
   "execution_count": 107,
   "id": "66b90ba0",
   "metadata": {},
   "outputs": [
    {
     "name": "stdout",
     "output_type": "stream",
     "text": [
      "Blimsel ya da daha kısa 10'luk sayı: 1.23 1.23e+07"
     ]
    }
   ],
   "source": [
    "@printf \"Blimsel ya da daha kısa 10'luk sayı: %g %g\" 1.23 12300000.0"
   ]
  },
  {
   "cell_type": "code",
   "execution_count": 108,
   "id": "f2d5228e",
   "metadata": {},
   "outputs": [
    {
     "name": "stdout",
     "output_type": "stream",
     "text": [
      "Inf Inf NaN NaN"
     ]
    }
   ],
   "source": [
    "@printf(\"%f %F %f %F\", Inf, Inf, NaN, NaN)"
   ]
  },
  {
   "cell_type": "code",
   "execution_count": 109,
   "id": "19b2204d",
   "metadata": {},
   "outputs": [
    {
     "name": "stdout",
     "output_type": "stream",
     "text": [
      "0 0.0 -0.007812"
     ]
    }
   ],
   "source": [
    "@printf \"%.0f %.1f %f\" 0.5 0.025 -0.0078125"
   ]
  },
  {
   "cell_type": "code",
   "execution_count": 110,
   "id": "42bf6e07",
   "metadata": {},
   "outputs": [
    {
     "name": "stdout",
     "output_type": "stream",
     "text": [
      "0 \n",
      "0.0 \n",
      "-0.007812"
     ]
    }
   ],
   "source": [
    "@printf \"%.0f \\n%.1f \\n%f\" 0.5 0.025 -0.0078125"
   ]
  },
  {
   "cell_type": "code",
   "execution_count": 111,
   "id": "5cdfb142",
   "metadata": {},
   "outputs": [
    {
     "data": {
      "text/plain": [
       "\"this is a test       34.6\""
      ]
     },
     "execution_count": 111,
     "metadata": {},
     "output_type": "execute_result"
    }
   ],
   "source": [
    "@sprintf \"this is a %s %10.1f\" \"test\" 34.567"
   ]
  },
  {
   "cell_type": "markdown",
   "id": "55ce6e9d",
   "metadata": {},
   "source": [
    "# text dosyasına veri aktarma"
   ]
  },
  {
   "cell_type": "markdown",
   "id": "d4a880c9",
   "metadata": {},
   "source": [
    "#write() ile çalışılan klasörde ata.txt isimli dosya oluşturur (notepad)"
   ]
  },
  {
   "cell_type": "code",
   "execution_count": 112,
   "id": "ed6172c5",
   "metadata": {},
   "outputs": [
    {
     "data": {
      "text/plain": [
       "76"
      ]
     },
     "execution_count": 112,
     "metadata": {},
     "output_type": "execute_result"
    }
   ],
   "source": [
    "open(\"ata.txt\", \"w\") do io  \n",
    "     write(io, \"'Vatanını en çok seven görevini en iyi yapandır.'\\n\\t\\t\\t\\t\\t'Kemal Atatürk'\");\n",
    "end"
   ]
  },
  {
   "cell_type": "code",
   "execution_count": 113,
   "id": "423db74a",
   "metadata": {},
   "outputs": [
    {
     "name": "stdout",
     "output_type": "stream",
     "text": [
      "'Vatanını en çok seven görevini en iyi yapandır.'"
     ]
    }
   ],
   "source": [
    "print(readline(\"ata.txt\"))"
   ]
  },
  {
   "cell_type": "code",
   "execution_count": null,
   "id": "e062c6ad",
   "metadata": {},
   "outputs": [],
   "source": []
  }
 ],
 "metadata": {
  "kernelspec": {
   "display_name": "Julia 1.9.2",
   "language": "julia",
   "name": "julia-1.9"
  },
  "language_info": {
   "file_extension": ".jl",
   "mimetype": "application/julia",
   "name": "julia",
   "version": "1.9.2"
  }
 },
 "nbformat": 4,
 "nbformat_minor": 5
}
