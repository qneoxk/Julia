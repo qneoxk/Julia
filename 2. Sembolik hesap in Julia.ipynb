{
 "cells": [
  {
   "cell_type": "code",
   "execution_count": 1,
   "id": "6efb260b",
   "metadata": {},
   "outputs": [],
   "source": [
    "using Symbolics"
   ]
  },
  {
   "cell_type": "code",
   "execution_count": 2,
   "id": "8c5e7dc1",
   "metadata": {},
   "outputs": [
    {
     "data": {
      "text/latex": [
       "$$ \\begin{equation}\n",
       "\\left[\n",
       "\\begin{array}{c}\n",
       "x \\\\\n",
       "y \\\\\n",
       "\\end{array}\n",
       "\\right]\n",
       "\\end{equation}\n",
       " $$"
      ],
      "text/plain": [
       "2-element Vector{Num}:\n",
       " x\n",
       " y"
      ]
     },
     "execution_count": 2,
     "metadata": {},
     "output_type": "execute_result"
    }
   ],
   "source": [
    "@variables x, y"
   ]
  },
  {
   "cell_type": "code",
   "execution_count": 3,
   "id": "88dc3010",
   "metadata": {},
   "outputs": [
    {
     "data": {
      "text/latex": [
       "$$ \\begin{equation}\n",
       "\\left( x + y \\right)^{3}\n",
       "\\end{equation}\n",
       " $$"
      ],
      "text/plain": [
       "(x + y)^3"
      ]
     },
     "execution_count": 3,
     "metadata": {},
     "output_type": "execute_result"
    }
   ],
   "source": [
    "f = (x+y)^3"
   ]
  },
  {
   "cell_type": "code",
   "execution_count": 4,
   "id": "71236eb1",
   "metadata": {},
   "outputs": [
    {
     "data": {
      "text/latex": [
       "$$ \\begin{equation}\n",
       "\\left( x + y \\right)^{3}\n",
       "\\end{equation}\n",
       " $$"
      ],
      "text/plain": [
       "(x + y)^3"
      ]
     },
     "execution_count": 4,
     "metadata": {},
     "output_type": "execute_result"
    }
   ],
   "source": [
    "f"
   ]
  },
  {
   "cell_type": "code",
   "execution_count": 5,
   "id": "43e62122",
   "metadata": {},
   "outputs": [
    {
     "data": {
      "text/latex": [
       "$$ \\begin{equation}\n",
       "\\left( x + y \\right)^{3}\n",
       "\\end{equation}\n",
       " $$"
      ],
      "text/plain": [
       "(x + y)^3"
      ]
     },
     "execution_count": 5,
     "metadata": {},
     "output_type": "execute_result"
    }
   ],
   "source": [
    "simplify(f)"
   ]
  },
  {
   "cell_type": "code",
   "execution_count": 6,
   "id": "e6bfb5d4",
   "metadata": {},
   "outputs": [
    {
     "data": {
      "text/latex": [
       "$$ \\begin{equation}\n",
       "x^{3} + y^{3} + 3 x^{2} y + 3 y^{2} x\n",
       "\\end{equation}\n",
       " $$"
      ],
      "text/plain": [
       "x^3 + y^3 + 3y*(x^2) + 3x*(y^2)"
      ]
     },
     "execution_count": 6,
     "metadata": {},
     "output_type": "execute_result"
    }
   ],
   "source": [
    "expand(f)"
   ]
  },
  {
   "cell_type": "code",
   "execution_count": 7,
   "id": "1ad478f2",
   "metadata": {},
   "outputs": [
    {
     "data": {
      "text/latex": [
       "$$ \\begin{equation}\n",
       "\\frac{2 y + 4 x y}{x y}\n",
       "\\end{equation}\n",
       " $$"
      ],
      "text/plain": [
       "(2y + 4x*y) / (x*y)"
      ]
     },
     "execution_count": 7,
     "metadata": {},
     "output_type": "execute_result"
    }
   ],
   "source": [
    "g = (2 * y + 4 * x * y) / (x * y)"
   ]
  },
  {
   "cell_type": "code",
   "execution_count": 8,
   "id": "273c2ee9",
   "metadata": {},
   "outputs": [
    {
     "data": {
      "text/latex": [
       "$$ \\begin{equation}\n",
       "\\frac{2 + 4 x}{x}\n",
       "\\end{equation}\n",
       " $$"
      ],
      "text/plain": [
       "(2.0 + 4.0x) / x"
      ]
     },
     "execution_count": 8,
     "metadata": {},
     "output_type": "execute_result"
    }
   ],
   "source": [
    "simplify(g)"
   ]
  },
  {
   "cell_type": "code",
   "execution_count": 9,
   "id": "c91e9e79",
   "metadata": {},
   "outputs": [
    {
     "data": {
      "text/latex": [
       "$$ \\begin{equation}\n",
       "\\cos^{2}\\left( x \\right) + \\sin^{2}\\left( x \\right)\n",
       "\\end{equation}\n",
       " $$"
      ],
      "text/plain": [
       "cos(x)^2 + sin(x)^2"
      ]
     },
     "execution_count": 9,
     "metadata": {},
     "output_type": "execute_result"
    }
   ],
   "source": [
    "cos(x)^2 + sin(x)^2"
   ]
  },
  {
   "cell_type": "code",
   "execution_count": 10,
   "id": "db39f77e",
   "metadata": {},
   "outputs": [
    {
     "data": {
      "text/latex": [
       "$$ \\begin{equation}\n",
       "1\n",
       "\\end{equation}\n",
       " $$"
      ],
      "text/plain": [
       "1"
      ]
     },
     "execution_count": 10,
     "metadata": {},
     "output_type": "execute_result"
    }
   ],
   "source": [
    "simplify(cos(x)^2 + sin(x)^2)"
   ]
  },
  {
   "cell_type": "code",
   "execution_count": 11,
   "id": "51b5ea5c",
   "metadata": {},
   "outputs": [
    {
     "data": {
      "text/latex": [
       "$$ \\begin{equation}\n",
       "\\frac{2 y + 4 x y}{x y}\n",
       "\\end{equation}\n",
       " $$"
      ],
      "text/plain": [
       "(2y + 4x*y) / (x*y)"
      ]
     },
     "execution_count": 11,
     "metadata": {},
     "output_type": "execute_result"
    }
   ],
   "source": [
    "g"
   ]
  },
  {
   "cell_type": "markdown",
   "id": "f95d9667",
   "metadata": {},
   "source": [
    "# Türev"
   ]
  },
  {
   "cell_type": "code",
   "execution_count": 12,
   "id": "06748972",
   "metadata": {},
   "outputs": [
    {
     "data": {
      "text/plain": [
       "(::Differential) (generic function with 3 methods)"
      ]
     },
     "execution_count": 12,
     "metadata": {},
     "output_type": "execute_result"
    }
   ],
   "source": [
    "D = Differential(x)"
   ]
  },
  {
   "cell_type": "code",
   "execution_count": 13,
   "id": "d47123b7",
   "metadata": {},
   "outputs": [
    {
     "data": {
      "text/latex": [
       "$$ \\begin{equation}\n",
       "\\frac{\\mathrm{d}}{\\mathrm{d}x} \\frac{2 y + 4 x y}{x y}\n",
       "\\end{equation}\n",
       " $$"
      ],
      "text/plain": [
       "Differential(x)((2y + 4x*y) / (x*y))"
      ]
     },
     "execution_count": 13,
     "metadata": {},
     "output_type": "execute_result"
    }
   ],
   "source": [
    "D(g)"
   ]
  },
  {
   "cell_type": "code",
   "execution_count": 14,
   "id": "eb331305",
   "metadata": {},
   "outputs": [
    {
     "data": {
      "text/latex": [
       "$$ \\begin{equation}\n",
       "\\frac{4}{x} - y \\frac{2 y + 4 x y}{y^{2} x^{2}}\n",
       "\\end{equation}\n",
       " $$"
      ],
      "text/plain": [
       "4 / x - y*((2y + 4x*y) / ((x^2)*(y^2)))"
      ]
     },
     "execution_count": 14,
     "metadata": {},
     "output_type": "execute_result"
    }
   ],
   "source": [
    "expand_derivatives(D(g))"
   ]
  },
  {
   "cell_type": "code",
   "execution_count": 15,
   "id": "90a348e7",
   "metadata": {},
   "outputs": [
    {
     "data": {
      "text/latex": [
       "$$ \\begin{equation}\n",
       "\\frac{\\mathrm{d} \\sin\\left( x \\right)}{\\mathrm{d}x}\n",
       "\\end{equation}\n",
       " $$"
      ],
      "text/plain": [
       "Differential(x)(sin(x))"
      ]
     },
     "execution_count": 15,
     "metadata": {},
     "output_type": "execute_result"
    }
   ],
   "source": [
    "D(sin(x))"
   ]
  },
  {
   "cell_type": "code",
   "execution_count": 16,
   "id": "bfc3c37d",
   "metadata": {},
   "outputs": [
    {
     "data": {
      "text/latex": [
       "$$ \\begin{equation}\n",
       "\\cos\\left( x \\right)\n",
       "\\end{equation}\n",
       " $$"
      ],
      "text/plain": [
       "cos(x)"
      ]
     },
     "execution_count": 16,
     "metadata": {},
     "output_type": "execute_result"
    }
   ],
   "source": [
    "expand_derivatives(D(sin(x)))"
   ]
  },
  {
   "cell_type": "code",
   "execution_count": 17,
   "id": "27b9df69",
   "metadata": {},
   "outputs": [
    {
     "name": "stderr",
     "output_type": "stream",
     "text": [
      "WARNING: using SymPy.Differential in module Main conflicts with an existing identifier.\n",
      "WARNING: using SymPy.expand in module Main conflicts with an existing identifier.\n",
      "WARNING: using SymPy.simplify in module Main conflicts with an existing identifier.\n"
     ]
    }
   ],
   "source": [
    "using SymPy"
   ]
  },
  {
   "cell_type": "markdown",
   "id": "fd51a616",
   "metadata": {},
   "source": [
    "Python için hazırlanmış SymPy Julia'da da kullanılabilmektedir"
   ]
  },
  {
   "cell_type": "markdown",
   "id": "e9b97db4",
   "metadata": {},
   "source": [
    "using Pkg  ve Pkg.add(\"SymPy\") komutuyla SymPy yüklenebilir. "
   ]
  },
  {
   "cell_type": "markdown",
   "id": "d0e4a44e",
   "metadata": {},
   "source": [
    "# SymPy ve integral (belirli-belirsiz)"
   ]
  },
  {
   "cell_type": "code",
   "execution_count": 40,
   "id": "02888296",
   "metadata": {},
   "outputs": [],
   "source": [
    "using SymPy"
   ]
  },
  {
   "cell_type": "code",
   "execution_count": 41,
   "id": "586c8c23",
   "metadata": {},
   "outputs": [
    {
     "data": {
      "text/plain": [
       "(x, y)"
      ]
     },
     "execution_count": 41,
     "metadata": {},
     "output_type": "execute_result"
    }
   ],
   "source": [
    "@vars x y"
   ]
  },
  {
   "cell_type": "code",
   "execution_count": 42,
   "id": "6296d42b",
   "metadata": {},
   "outputs": [
    {
     "data": {
      "text/latex": [
       "$y^{2} + \\frac{1}{3}$"
      ],
      "text/plain": [
       " 2   1\n",
       "y  + -\n",
       "     3"
      ]
     },
     "execution_count": 42,
     "metadata": {},
     "output_type": "execute_result"
    }
   ],
   "source": [
    "integrate(x^2+y^2,(x,0,1))"
   ]
  },
  {
   "cell_type": "code",
   "execution_count": 43,
   "id": "d6c3aba5",
   "metadata": {},
   "outputs": [
    {
     "data": {
      "text/latex": [
       "$\\frac{x^{4}}{4}$"
      ],
      "text/plain": [
       " 4\n",
       "x \n",
       "--\n",
       "4 "
      ]
     },
     "execution_count": 43,
     "metadata": {},
     "output_type": "execute_result"
    }
   ],
   "source": [
    "integrate(x^3,x)"
   ]
  },
  {
   "cell_type": "code",
   "execution_count": 44,
   "id": "76854cb4",
   "metadata": {},
   "outputs": [
    {
     "data": {
      "text/latex": [
       "$\\sin{\\left(x \\right)}$"
      ],
      "text/plain": [
       "sin(x)"
      ]
     },
     "execution_count": 44,
     "metadata": {},
     "output_type": "execute_result"
    }
   ],
   "source": [
    "integrate(cos(x), x)"
   ]
  },
  {
   "cell_type": "code",
   "execution_count": 45,
   "id": "e2edc96b",
   "metadata": {},
   "outputs": [
    {
     "data": {
      "text/latex": [
       "$- \\log{\\left(\\cos{\\left(x \\right)} \\right)}$"
      ],
      "text/plain": [
       "-log(cos(x))"
      ]
     },
     "execution_count": 45,
     "metadata": {},
     "output_type": "execute_result"
    }
   ],
   "source": [
    "integrate(tan(x), x)"
   ]
  },
  {
   "cell_type": "code",
   "execution_count": 46,
   "id": "8954d993",
   "metadata": {},
   "outputs": [
    {
     "data": {
      "text/latex": [
       "$\\frac{\\sqrt{\\pi} \\operatorname{erf}{\\left(x \\right)}}{2}$"
      ],
      "text/plain": [
       "  ____       \n",
       "\\/ pi *erf(x)\n",
       "-------------\n",
       "      2      "
      ]
     },
     "execution_count": 46,
     "metadata": {},
     "output_type": "execute_result"
    }
   ],
   "source": [
    "integrate(exp(-x^2), x)"
   ]
  },
  {
   "cell_type": "code",
   "execution_count": 47,
   "id": "6a8c5e3d",
   "metadata": {},
   "outputs": [
    {
     "data": {
      "text/latex": [
       "$\\frac{\\sqrt{\\pi} \\operatorname{erf}{\\left(1 \\right)}}{2}$"
      ],
      "text/plain": [
       "  ____       \n",
       "\\/ pi *erf(1)\n",
       "-------------\n",
       "      2      "
      ]
     },
     "execution_count": 47,
     "metadata": {},
     "output_type": "execute_result"
    }
   ],
   "source": [
    "integrate(exp(-x^2), (x,0,1))"
   ]
  },
  {
   "cell_type": "code",
   "execution_count": 48,
   "id": "549cfa5a",
   "metadata": {},
   "outputs": [
    {
     "data": {
      "text/latex": [
       "$e^{- x^{2}}$"
      ],
      "text/plain": [
       "   2\n",
       " -x \n",
       "e   "
      ]
     },
     "execution_count": 48,
     "metadata": {},
     "output_type": "execute_result"
    }
   ],
   "source": [
    "integrate(exp(-x^2), (y,0,1))"
   ]
  },
  {
   "cell_type": "code",
   "execution_count": 49,
   "id": "8e680f49",
   "metadata": {},
   "outputs": [
    {
     "data": {
      "text/latex": [
       "$\\frac{x^{3} y^{2}}{6}$"
      ],
      "text/plain": [
       " 3  2\n",
       "x *y \n",
       "-----\n",
       "  6  "
      ]
     },
     "execution_count": 49,
     "metadata": {},
     "output_type": "execute_result"
    }
   ],
   "source": [
    "integrate(integrate(x^2*y, x), y)"
   ]
  },
  {
   "cell_type": "markdown",
   "id": "7ae1de11",
   "metadata": {},
   "source": [
    "# Denklem Çözümü "
   ]
  },
  {
   "cell_type": "code",
   "execution_count": 50,
   "id": "f2fc0923",
   "metadata": {},
   "outputs": [
    {
     "data": {
      "text/latex": [
       "$\\left[ \\begin{array}{r}4\\end{array} \\right]$\n"
      ],
      "text/plain": [
       "1-element Vector{Sym}:\n",
       " 4"
      ]
     },
     "execution_count": 50,
     "metadata": {},
     "output_type": "execute_result"
    }
   ],
   "source": [
    "solve(x-4, x)"
   ]
  },
  {
   "cell_type": "code",
   "execution_count": 51,
   "id": "5a8d4214",
   "metadata": {},
   "outputs": [
    {
     "data": {
      "text/latex": [
       "$\\left[ \\begin{array}{r}3\\\\- \\frac{3}{2} - \\frac{3 \\sqrt{3} i}{2}\\\\- \\frac{3}{2} + \\frac{3 \\sqrt{3} i}{2}\\end{array} \\right]$\n"
      ],
      "text/plain": [
       "3-element Vector{Sym}:\n",
       "                    3\n",
       " -3/2 - 3*sqrt(3)*I/2\n",
       " -3/2 + 3*sqrt(3)*I/2"
      ]
     },
     "execution_count": 51,
     "metadata": {},
     "output_type": "execute_result"
    }
   ],
   "source": [
    "solve(x^3-27, x)"
   ]
  },
  {
   "cell_type": "code",
   "execution_count": 52,
   "id": "69934b7c",
   "metadata": {},
   "outputs": [
    {
     "data": {
      "text/plain": [
       "Dict{Any, Any} with 3 entries:\n",
       "  x => 14/9\n",
       "  z => 10/3\n",
       "  y => 11/9"
      ]
     },
     "execution_count": 52,
     "metadata": {},
     "output_type": "execute_result"
    }
   ],
   "source": [
    "@vars x y z\n",
    "solve([2x + y - z - 1, -x + y + z - 3, x - y + 2z - 7], [x, y, z])"
   ]
  },
  {
   "cell_type": "code",
   "execution_count": 53,
   "id": "eac55c7e",
   "metadata": {},
   "outputs": [
    {
     "data": {
      "text/latex": [
       "$\\left[ \\begin{array}{r}0\\\\\\pi\\end{array} \\right]$\n"
      ],
      "text/plain": [
       "2-element Vector{Sym}:\n",
       "  0\n",
       " pi"
      ]
     },
     "execution_count": 53,
     "metadata": {},
     "output_type": "execute_result"
    }
   ],
   "source": [
    "solve(sin(x)^2, x)"
   ]
  },
  {
   "cell_type": "code",
   "execution_count": 54,
   "id": "1a73f848",
   "metadata": {},
   "outputs": [
    {
     "data": {
      "text/latex": [
       "$\\left[ \\begin{array}{r}1\\end{array} \\right]$\n"
      ],
      "text/plain": [
       "1-element Vector{Sym}:\n",
       " 1"
      ]
     },
     "execution_count": 54,
     "metadata": {},
     "output_type": "execute_result"
    }
   ],
   "source": [
    "solve(acos(x), x)"
   ]
  },
  {
   "cell_type": "markdown",
   "id": "e1a9ee3a",
   "metadata": {},
   "source": [
    "# Lineer denklem sistemi çözümü "
   ]
  },
  {
   "cell_type": "code",
   "execution_count": 55,
   "id": "4ea3af63",
   "metadata": {},
   "outputs": [
    {
     "data": {
      "text/plain": [
       "Dict{Any, Any} with 3 entries:\n",
       "  x => 0\n",
       "  z => 2\n",
       "  y => 2"
      ]
     },
     "execution_count": 55,
     "metadata": {},
     "output_type": "execute_result"
    }
   ],
   "source": [
    "solve([x - 2 + y, y - 4 + z, x + z - 2], [x, y, z])"
   ]
  },
  {
   "cell_type": "code",
   "execution_count": 56,
   "id": "8cc6e700",
   "metadata": {},
   "outputs": [
    {
     "data": {
      "text/plain": [
       "Dict{Any, Any} with 3 entries:\n",
       "  x => -6/7\n",
       "  z => -4/7\n",
       "  y => -8/7"
      ]
     },
     "execution_count": 56,
     "metadata": {},
     "output_type": "execute_result"
    }
   ],
   "source": [
    "solve([x + 2 + y, 3*y + 4 + z, x + 2*z + 2], [x, y, z])"
   ]
  },
  {
   "cell_type": "markdown",
   "id": "88fae0c6",
   "metadata": {},
   "source": [
    "# Limit"
   ]
  },
  {
   "cell_type": "code",
   "execution_count": 57,
   "id": "b4640934",
   "metadata": {},
   "outputs": [
    {
     "data": {
      "text/plain": [
       "h (generic function with 1 method)"
      ]
     },
     "execution_count": 57,
     "metadata": {},
     "output_type": "execute_result"
    }
   ],
   "source": [
    "h(x) = sin(x) / x "
   ]
  },
  {
   "cell_type": "code",
   "execution_count": 58,
   "id": "aa444e4a",
   "metadata": {},
   "outputs": [
    {
     "data": {
      "text/latex": [
       "$1$"
      ],
      "text/plain": [
       "1"
      ]
     },
     "execution_count": 58,
     "metadata": {},
     "output_type": "execute_result"
    }
   ],
   "source": [
    "limit(h, x, 0)"
   ]
  },
  {
   "cell_type": "code",
   "execution_count": 59,
   "id": "aa438fa7",
   "metadata": {},
   "outputs": [
    {
     "data": {
      "text/latex": [
       "$\\infty$"
      ],
      "text/plain": [
       "oo"
      ]
     },
     "execution_count": 59,
     "metadata": {},
     "output_type": "execute_result"
    }
   ],
   "source": [
    "limit((x^3 + 4)/(8*x^3), x, 0)"
   ]
  },
  {
   "cell_type": "code",
   "execution_count": 60,
   "id": "06a23c59",
   "metadata": {},
   "outputs": [
    {
     "data": {
      "text/latex": [
       "$\\frac{1}{8}$"
      ],
      "text/plain": [
       "1/8"
      ]
     },
     "execution_count": 60,
     "metadata": {},
     "output_type": "execute_result"
    }
   ],
   "source": [
    "limit((x^3)/(8*x^3), x, 0)"
   ]
  },
  {
   "cell_type": "code",
   "execution_count": 61,
   "id": "49811940",
   "metadata": {},
   "outputs": [
    {
     "name": "stdout",
     "output_type": "stream",
     "text": [
      "1/8"
     ]
    }
   ],
   "source": [
    "r = limit((x^3)/(8*x^3), x, 0)\n",
    "print(r)"
   ]
  },
  {
   "cell_type": "code",
   "execution_count": null,
   "id": "ad225e92",
   "metadata": {},
   "outputs": [],
   "source": []
  }
 ],
 "metadata": {
  "kernelspec": {
   "display_name": "Julia 1.9.2",
   "language": "julia",
   "name": "julia-1.9"
  },
  "language_info": {
   "file_extension": ".jl",
   "mimetype": "application/julia",
   "name": "julia",
   "version": "1.9.2"
  }
 },
 "nbformat": 4,
 "nbformat_minor": 5
}
