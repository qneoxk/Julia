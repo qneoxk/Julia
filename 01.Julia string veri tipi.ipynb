{
 "cells": [
  {
   "cell_type": "markdown",
   "id": "664de36a",
   "metadata": {},
   "source": [
    "# Veri Tipleri "
   ]
  },
  {
   "cell_type": "markdown",
   "id": "5f8c7e4c",
   "metadata": {},
   "source": [
    "# Strings"
   ]
  },
  {
   "cell_type": "raw",
   "id": "5e120d07",
   "metadata": {},
   "source": [
    "stringler, çift tırnak ile tanımlanır. "
   ]
  },
  {
   "cell_type": "code",
   "execution_count": 1,
   "id": "c545522b",
   "metadata": {},
   "outputs": [
    {
     "data": {
      "text/plain": [
       "\"Merhaba\""
      ]
     },
     "execution_count": 1,
     "metadata": {},
     "output_type": "execute_result"
    }
   ],
   "source": [
    "s = \"Merhaba\""
   ]
  },
  {
   "cell_type": "code",
   "execution_count": 2,
   "id": "d9ac0422",
   "metadata": {},
   "outputs": [
    {
     "data": {
      "text/plain": [
       "\"Merhaba\""
      ]
     },
     "execution_count": 2,
     "metadata": {},
     "output_type": "execute_result"
    }
   ],
   "source": [
    "s"
   ]
  },
  {
   "cell_type": "code",
   "execution_count": 47,
   "id": "06da8ddb",
   "metadata": {},
   "outputs": [
    {
     "data": {
      "text/plain": [
       "String"
      ]
     },
     "execution_count": 47,
     "metadata": {},
     "output_type": "execute_result"
    }
   ],
   "source": [
    "typeof(s)"
   ]
  },
  {
   "cell_type": "code",
   "execution_count": 48,
   "id": "6ac1c4fb",
   "metadata": {},
   "outputs": [
    {
     "data": {
      "text/plain": [
       "7"
      ]
     },
     "execution_count": 48,
     "metadata": {},
     "output_type": "execute_result"
    }
   ],
   "source": [
    "length(s)"
   ]
  },
  {
   "cell_type": "code",
   "execution_count": 51,
   "id": "5aa6006c",
   "metadata": {},
   "outputs": [
    {
     "data": {
      "text/plain": [
       "'M': ASCII/Unicode U+004D (category Lu: Letter, uppercase)"
      ]
     },
     "execution_count": 51,
     "metadata": {},
     "output_type": "execute_result"
    }
   ],
   "source": [
    "s[begin]"
   ]
  },
  {
   "cell_type": "code",
   "execution_count": 52,
   "id": "b882cfd9",
   "metadata": {},
   "outputs": [
    {
     "data": {
      "text/plain": [
       "'M': ASCII/Unicode U+004D (category Lu: Letter, uppercase)"
      ]
     },
     "execution_count": 52,
     "metadata": {},
     "output_type": "execute_result"
    }
   ],
   "source": [
    "s[1] #Julia'da indisleme 1'den başlar"
   ]
  },
  {
   "cell_type": "code",
   "execution_count": 53,
   "id": "a3507c8c",
   "metadata": {},
   "outputs": [
    {
     "data": {
      "text/plain": [
       "'e': ASCII/Unicode U+0065 (category Ll: Letter, lowercase)"
      ]
     },
     "execution_count": 53,
     "metadata": {},
     "output_type": "execute_result"
    }
   ],
   "source": [
    "s[2]"
   ]
  },
  {
   "cell_type": "code",
   "execution_count": 54,
   "id": "67045615",
   "metadata": {},
   "outputs": [
    {
     "data": {
      "text/plain": [
       "'a': ASCII/Unicode U+0061 (category Ll: Letter, lowercase)"
      ]
     },
     "execution_count": 54,
     "metadata": {},
     "output_type": "execute_result"
    }
   ],
   "source": [
    "s[end]"
   ]
  },
  {
   "cell_type": "code",
   "execution_count": 55,
   "id": "3c8c5ae5",
   "metadata": {},
   "outputs": [
    {
     "data": {
      "text/plain": [
       "'b': ASCII/Unicode U+0062 (category Ll: Letter, lowercase)"
      ]
     },
     "execution_count": 55,
     "metadata": {},
     "output_type": "execute_result"
    }
   ],
   "source": [
    "s[end-1] # tersten sayma"
   ]
  },
  {
   "cell_type": "code",
   "execution_count": 56,
   "id": "9099502e",
   "metadata": {},
   "outputs": [
    {
     "ename": "LoadError",
     "evalue": "BoundsError: attempt to access 7-codeunit String at index [9]",
     "output_type": "error",
     "traceback": [
      "BoundsError: attempt to access 7-codeunit String at index [9]",
      "",
      "Stacktrace:",
      " [1] checkbounds",
      "   @ .\\strings\\basic.jl:216 [inlined]",
      " [2] codeunit",
      "   @ .\\strings\\string.jl:117 [inlined]",
      " [3] getindex(s::String, i::Int64)",
      "   @ Base .\\strings\\string.jl:238",
      " [4] top-level scope",
      "   @ In[56]:1"
     ]
    }
   ],
   "source": [
    "s[end+2] # stringin dışına çıktı"
   ]
  },
  {
   "cell_type": "code",
   "execution_count": 58,
   "id": "30919acf",
   "metadata": {},
   "outputs": [
    {
     "data": {
      "text/plain": [
       "\"haba\""
      ]
     },
     "execution_count": 58,
     "metadata": {},
     "output_type": "execute_result"
    }
   ],
   "source": [
    "s[4:7]"
   ]
  },
  {
   "cell_type": "code",
   "execution_count": 61,
   "id": "18b36fe3",
   "metadata": {},
   "outputs": [
    {
     "data": {
      "text/plain": [
       "'h': ASCII/Unicode U+0068 (category Ll: Letter, lowercase)"
      ]
     },
     "execution_count": 61,
     "metadata": {},
     "output_type": "execute_result"
    }
   ],
   "source": [
    "s[4]"
   ]
  },
  {
   "cell_type": "code",
   "execution_count": 63,
   "id": "b72d8aa2",
   "metadata": {},
   "outputs": [
    {
     "data": {
      "text/plain": [
       "\"h\""
      ]
     },
     "execution_count": 63,
     "metadata": {},
     "output_type": "execute_result"
    }
   ],
   "source": [
    "s[4:4]"
   ]
  },
  {
   "cell_type": "code",
   "execution_count": 59,
   "id": "10c56a74",
   "metadata": {},
   "outputs": [
    {
     "data": {
      "text/plain": [
       "\"Dünya\""
      ]
     },
     "execution_count": 59,
     "metadata": {},
     "output_type": "execute_result"
    }
   ],
   "source": [
    "u = \"Dünya\""
   ]
  },
  {
   "cell_type": "code",
   "execution_count": 60,
   "id": "b9f4c448",
   "metadata": {},
   "outputs": [
    {
     "data": {
      "text/plain": [
       "\"Merhaba Dünya\""
      ]
     },
     "execution_count": 60,
     "metadata": {},
     "output_type": "execute_result"
    }
   ],
   "source": [
    "s2 = s * \" \" * u # stringleri birleştirme"
   ]
  },
  {
   "cell_type": "code",
   "execution_count": 65,
   "id": "ef679557",
   "metadata": {},
   "outputs": [
    {
     "data": {
      "text/plain": [
       "\"Merh\""
      ]
     },
     "execution_count": 65,
     "metadata": {},
     "output_type": "execute_result"
    }
   ],
   "source": [
    "substr = SubString(uu, 1,4)"
   ]
  },
  {
   "cell_type": "code",
   "execution_count": 66,
   "id": "0b98fd50",
   "metadata": {},
   "outputs": [
    {
     "data": {
      "text/plain": [
       "SubString{String}"
      ]
     },
     "execution_count": 66,
     "metadata": {},
     "output_type": "execute_result"
    }
   ],
   "source": [
    "typeof(substr)"
   ]
  },
  {
   "cell_type": "code",
   "execution_count": 67,
   "id": "08296ec5",
   "metadata": {},
   "outputs": [
    {
     "data": {
      "text/plain": [
       "SubString{String}"
      ]
     },
     "execution_count": 67,
     "metadata": {},
     "output_type": "execute_result"
    }
   ],
   "source": [
    "@views typeof(s2[1:4])"
   ]
  },
  {
   "cell_type": "code",
   "execution_count": 75,
   "id": "7e3e653c",
   "metadata": {},
   "outputs": [
    {
     "data": {
      "text/plain": [
       "\"∀ x ∃ y\""
      ]
     },
     "execution_count": 75,
     "metadata": {},
     "output_type": "execute_result"
    }
   ],
   "source": [
    "k = \"\\u2200 x \\u2203 y\" #Julia, Unicode and UTF-8 gösterimini destekler. "
   ]
  },
  {
   "cell_type": "code",
   "execution_count": 76,
   "id": "0bb3279b",
   "metadata": {},
   "outputs": [
    {
     "data": {
      "text/plain": [
       "'∀': Unicode U+2200 (category Sm: Symbol, math)"
      ]
     },
     "execution_count": 76,
     "metadata": {},
     "output_type": "execute_result"
    }
   ],
   "source": [
    "k[1]"
   ]
  },
  {
   "cell_type": "code",
   "execution_count": 77,
   "id": "fdd13c6f",
   "metadata": {},
   "outputs": [
    {
     "ename": "LoadError",
     "evalue": "StringIndexError: invalid index [2], valid nearby indices [1]=>'∀', [4]=>' '",
     "output_type": "error",
     "traceback": [
      "StringIndexError: invalid index [2], valid nearby indices [1]=>'∀', [4]=>' '",
      "",
      "Stacktrace:",
      " [1] string_index_err(s::String, i::Int64)",
      "   @ Base .\\strings\\string.jl:12",
      " [2] getindex_continued(s::String, i::Int64, u::UInt32)",
      "   @ Base .\\strings\\string.jl:248",
      " [3] getindex(s::String, i::Int64)",
      "   @ Base .\\strings\\string.jl:241",
      " [4] top-level scope",
      "   @ In[77]:1"
     ]
    }
   ],
   "source": [
    "k[2] # hata verir"
   ]
  },
  {
   "cell_type": "code",
   "execution_count": 79,
   "id": "bedaad42",
   "metadata": {},
   "outputs": [
    {
     "ename": "LoadError",
     "evalue": "StringIndexError: invalid index [3], valid nearby indices [1]=>'∀', [4]=>' '",
     "output_type": "error",
     "traceback": [
      "StringIndexError: invalid index [3], valid nearby indices [1]=>'∀', [4]=>' '",
      "",
      "Stacktrace:",
      " [1] string_index_err(s::String, i::Int64)",
      "   @ Base .\\strings\\string.jl:12",
      " [2] getindex_continued(s::String, i::Int64, u::UInt32)",
      "   @ Base .\\strings\\string.jl:248",
      " [3] getindex(s::String, i::Int64)",
      "   @ Base .\\strings\\string.jl:241",
      " [4] top-level scope",
      "   @ In[79]:1"
     ]
    }
   ],
   "source": [
    "k[3] #hata verir"
   ]
  },
  {
   "cell_type": "code",
   "execution_count": 80,
   "id": "758386af",
   "metadata": {},
   "outputs": [
    {
     "data": {
      "text/plain": [
       "' ': ASCII/Unicode U+0020 (category Zs: Separator, space)"
      ]
     },
     "execution_count": 80,
     "metadata": {},
     "output_type": "execute_result"
    }
   ],
   "source": [
    "k[4]"
   ]
  },
  {
   "cell_type": "code",
   "execution_count": 81,
   "id": "afdbe41b",
   "metadata": {},
   "outputs": [
    {
     "data": {
      "text/plain": [
       "'x': ASCII/Unicode U+0078 (category Ll: Letter, lowercase)"
      ]
     },
     "execution_count": 81,
     "metadata": {},
     "output_type": "execute_result"
    }
   ],
   "source": [
    "k[5]"
   ]
  },
  {
   "cell_type": "code",
   "execution_count": 82,
   "id": "44dbd14e",
   "metadata": {},
   "outputs": [
    {
     "name": "stdout",
     "output_type": "stream",
     "text": [
      "∀\n",
      " \n",
      "x\n",
      " \n",
      "∃\n",
      " \n",
      "y\n"
     ]
    }
   ],
   "source": [
    "for i = firstindex(k):lastindex(k)\n",
    "           try\n",
    "               println(k[i])\n",
    "           catch\n",
    "               # ignore the index error\n",
    "           end\n",
    "       end"
   ]
  },
  {
   "cell_type": "code",
   "execution_count": 83,
   "id": "6f2c16ad",
   "metadata": {},
   "outputs": [
    {
     "name": "stdout",
     "output_type": "stream",
     "text": [
      "∀\n",
      " \n",
      "x\n",
      " \n",
      "∃\n",
      " \n",
      "y\n"
     ]
    }
   ],
   "source": [
    "for c in k\n",
    "           println(c)\n",
    "       end"
   ]
  },
  {
   "cell_type": "code",
   "execution_count": 84,
   "id": "aa5e4504",
   "metadata": {},
   "outputs": [
    {
     "data": {
      "text/plain": [
       "7-element Vector{Int64}:\n",
       "  1\n",
       "  4\n",
       "  5\n",
       "  6\n",
       "  7\n",
       " 10\n",
       " 11"
      ]
     },
     "execution_count": 84,
     "metadata": {},
     "output_type": "execute_result"
    }
   ],
   "source": [
    "collect(eachindex(k)) # indeksleri üzerinde yineleme için eachindex fonksiyonu kullanılır "
   ]
  },
  {
   "cell_type": "code",
   "execution_count": 85,
   "id": "a6ae0fed",
   "metadata": {},
   "outputs": [
    {
     "data": {
      "text/plain": [
       "\"minik\""
      ]
     },
     "execution_count": 85,
     "metadata": {},
     "output_type": "execute_result"
    }
   ],
   "source": [
    "ss = \"minik\""
   ]
  },
  {
   "cell_type": "code",
   "execution_count": 86,
   "id": "0a758dbf",
   "metadata": {},
   "outputs": [
    {
     "data": {
      "text/plain": [
       "5-element Vector{Int64}:\n",
       " 1\n",
       " 2\n",
       " 3\n",
       " 4\n",
       " 5"
      ]
     },
     "execution_count": 86,
     "metadata": {},
     "output_type": "execute_result"
    }
   ],
   "source": [
    "collect(eachindex(ss))"
   ]
  },
  {
   "cell_type": "code",
   "execution_count": null,
   "id": "12d4223d",
   "metadata": {},
   "outputs": [],
   "source": []
  },
  {
   "cell_type": "code",
   "execution_count": 87,
   "id": "0f1dbb96",
   "metadata": {},
   "outputs": [
    {
     "data": {
      "text/plain": [
       "\"1 + 2 = 3\""
      ]
     },
     "execution_count": 87,
     "metadata": {},
     "output_type": "execute_result"
    }
   ],
   "source": [
    "\"1 + 2 = $(1 + 2)\" # $ işaretinden sonraki parantez içi sayısal olarak hesaplanarak verilir. "
   ]
  },
  {
   "cell_type": "raw",
   "id": "93a19004",
   "metadata": {},
   "source": [
    "Çoklu yorum satırı için üç tırnak kullanılır "
   ]
  },
  {
   "cell_type": "code",
   "execution_count": 88,
   "id": "22eafd24",
   "metadata": {},
   "outputs": [
    {
     "data": {
      "text/plain": [
       "\"deneme1\\ndeneme2\\ndeneme3\\n\""
      ]
     },
     "execution_count": 88,
     "metadata": {},
     "output_type": "execute_result"
    }
   ],
   "source": [
    "\"\"\"\n",
    "deneme1\n",
    "deneme2\n",
    "deneme3\n",
    "\"\"\""
   ]
  },
  {
   "cell_type": "raw",
   "id": "a34e7d14",
   "metadata": {},
   "source": [
    "Özel bir karakter findfirst ve findlast ile sorulur "
   ]
  },
  {
   "cell_type": "code",
   "execution_count": 89,
   "id": "018aa253",
   "metadata": {},
   "outputs": [
    {
     "data": {
      "text/plain": [
       "\"Endoplazmikretikulum\""
      ]
     },
     "execution_count": 89,
     "metadata": {},
     "output_type": "execute_result"
    }
   ],
   "source": [
    "s = \"Endoplazmikretikulum\""
   ]
  },
  {
   "cell_type": "code",
   "execution_count": 90,
   "id": "60a0bc7d",
   "metadata": {},
   "outputs": [
    {
     "data": {
      "text/plain": [
       "13:13"
      ]
     },
     "execution_count": 90,
     "metadata": {},
     "output_type": "execute_result"
    }
   ],
   "source": [
    "findfirst(\"e\", s)"
   ]
  },
  {
   "cell_type": "code",
   "execution_count": 91,
   "id": "ec6e8a09",
   "metadata": {},
   "outputs": [
    {
     "data": {
      "text/plain": [
       "1:1"
      ]
     },
     "execution_count": 91,
     "metadata": {},
     "output_type": "execute_result"
    }
   ],
   "source": [
    "findfirst(\"E\", s)"
   ]
  },
  {
   "cell_type": "code",
   "execution_count": 92,
   "id": "6bd43f86",
   "metadata": {},
   "outputs": [
    {
     "data": {
      "text/plain": [
       "17:17"
      ]
     },
     "execution_count": 92,
     "metadata": {},
     "output_type": "execute_result"
    }
   ],
   "source": [
    "findfirst(\"u\", s)"
   ]
  },
  {
   "cell_type": "code",
   "execution_count": 93,
   "id": "d52c420a",
   "metadata": {},
   "outputs": [
    {
     "data": {
      "text/plain": [
       "19:19"
      ]
     },
     "execution_count": 93,
     "metadata": {},
     "output_type": "execute_result"
    }
   ],
   "source": [
    "findlast(\"u\", s)"
   ]
  },
  {
   "cell_type": "code",
   "execution_count": 96,
   "id": "156a91f3",
   "metadata": {},
   "outputs": [
    {
     "data": {
      "text/plain": [
       "false"
      ]
     },
     "execution_count": 96,
     "metadata": {},
     "output_type": "execute_result"
    }
   ],
   "source": [
    "occursin(\"ata\", s)"
   ]
  },
  {
   "cell_type": "code",
   "execution_count": 97,
   "id": "71693da4",
   "metadata": {},
   "outputs": [
    {
     "data": {
      "text/plain": [
       "true"
      ]
     },
     "execution_count": 97,
     "metadata": {},
     "output_type": "execute_result"
    }
   ],
   "source": [
    "occursin(\"Endo\", s)"
   ]
  },
  {
   "cell_type": "markdown",
   "id": "56831e5e",
   "metadata": {},
   "source": [
    "Julia, PCRE kütüphanesi tarafından sağlanan Perl uyumlu düzenli ifadelerin (regexes) 2. sürümünü kullanır (daha fazla ayrıntı için PCRE2 sözdizimi açıklamasına bakın). Düzenli ifadeler dizgilerle iki şekilde ilişkilidir: bariz bağlantı, düzenli ifadelerin dizgilerdeki düzenli kalıpları bulmak için kullanılmasıdır; diğer bağlantı ise, düzenli ifadelerin kendilerinin dizgiler olarak girilmesi ve dizgilerdeki kalıpları verimli bir şekilde aramak için kullanılabilecek bir durum makinesine ayrıştırılmasıdır. Julia'da düzenli ifadeler, r ile başlayan çeşitli tanımlayıcılarla ön eklenmiş standart olmayan dize değişmezleri kullanılarak girilir. Herhangi bir seçenek açık olmadan en temel düzenli ifade değişmezi sadece r\"...\" kullanır:"
   ]
  },
  {
   "cell_type": "code",
   "execution_count": 98,
   "id": "69b73ec5",
   "metadata": {},
   "outputs": [
    {
     "data": {
      "text/plain": [
       "RegexMatch(\"12:45\", hour=\"12\", minute=\"45\")"
      ]
     },
     "execution_count": 98,
     "metadata": {},
     "output_type": "execute_result"
    }
   ],
   "source": [
    "m=match(r\"(?<hour>\\d+):(?<minute>\\d+)\",\"12:45\")"
   ]
  },
  {
   "cell_type": "code",
   "execution_count": 99,
   "id": "39f29179",
   "metadata": {},
   "outputs": [
    {
     "data": {
      "text/plain": [
       "\"45\""
      ]
     },
     "execution_count": 99,
     "metadata": {},
     "output_type": "execute_result"
    }
   ],
   "source": [
    "m[:minute]"
   ]
  },
  {
   "cell_type": "code",
   "execution_count": 100,
   "id": "b2b601d3",
   "metadata": {},
   "outputs": [
    {
     "data": {
      "text/plain": [
       "\"45\""
      ]
     },
     "execution_count": 100,
     "metadata": {},
     "output_type": "execute_result"
    }
   ],
   "source": [
    "m[2]"
   ]
  },
  {
   "cell_type": "code",
   "execution_count": null,
   "id": "958c1d5a",
   "metadata": {},
   "outputs": [],
   "source": []
  },
  {
   "cell_type": "code",
   "execution_count": 101,
   "id": "199f2d13",
   "metadata": {},
   "outputs": [
    {
     "data": {
      "text/plain": [
       "\"second first\""
      ]
     },
     "execution_count": 101,
     "metadata": {},
     "output_type": "execute_result"
    }
   ],
   "source": [
    "replace(\"first second\", r\"(\\w+) (?<agroup>\\w+)\" => s\"\\g<agroup> \\1\")\n",
    "\"second first\""
   ]
  },
  {
   "cell_type": "code",
   "execution_count": 102,
   "id": "0ed9a157",
   "metadata": {},
   "outputs": [
    {
     "data": {
      "text/plain": [
       "\"a1\""
      ]
     },
     "execution_count": 102,
     "metadata": {},
     "output_type": "execute_result"
    }
   ],
   "source": [
    "replace(\"a\", r\".\" => s\"\\g<0>1\")\n",
    "\"a1\""
   ]
  }
 ],
 "metadata": {
  "kernelspec": {
   "display_name": "Julia 1.9.2",
   "language": "julia",
   "name": "julia-1.9"
  },
  "language_info": {
   "file_extension": ".jl",
   "mimetype": "application/julia",
   "name": "julia",
   "version": "1.9.2"
  }
 },
 "nbformat": 4,
 "nbformat_minor": 5
}
