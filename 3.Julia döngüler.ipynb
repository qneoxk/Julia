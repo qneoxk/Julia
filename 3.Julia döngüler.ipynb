{
 "cells": [
  {
   "cell_type": "markdown",
   "id": "2b635af5",
   "metadata": {},
   "source": [
    "# Tek sayılar in Julia "
   ]
  },
  {
   "cell_type": "markdown",
   "id": "acc5b666",
   "metadata": {},
   "source": [
    "# for döngüsü"
   ]
  },
  {
   "cell_type": "code",
   "execution_count": 1,
   "id": "0305ca59",
   "metadata": {},
   "outputs": [
    {
     "data": {
      "text/plain": [
       "10-element Vector{Int64}:\n",
       "  1\n",
       "  2\n",
       "  3\n",
       "  4\n",
       "  5\n",
       "  6\n",
       "  7\n",
       "  8\n",
       "  9\n",
       " 10"
      ]
     },
     "execution_count": 1,
     "metadata": {},
     "output_type": "execute_result"
    }
   ],
   "source": [
    "A = [1,2,3,4,5,6,7,8,9,10]"
   ]
  },
  {
   "cell_type": "code",
   "execution_count": 2,
   "id": "d0a425c0",
   "metadata": {},
   "outputs": [
    {
     "name": "stdout",
     "output_type": "stream",
     "text": [
      "12345678910"
     ]
    }
   ],
   "source": [
    "for i in A\n",
    "    print(i)\n",
    "end"
   ]
  },
  {
   "cell_type": "code",
   "execution_count": 3,
   "id": "9652baee",
   "metadata": {},
   "outputs": [
    {
     "name": "stdout",
     "output_type": "stream",
     "text": [
      "\n",
      "1\n",
      "2\n",
      "3\n",
      "4\n",
      "5\n",
      "6\n",
      "7\n",
      "8\n",
      "9\n",
      "10"
     ]
    }
   ],
   "source": [
    "for i in A\n",
    "    print(\"\\n\")\n",
    "    print(i)\n",
    "end"
   ]
  },
  {
   "cell_type": "code",
   "execution_count": 4,
   "id": "c899347f",
   "metadata": {},
   "outputs": [
    {
     "name": "stdout",
     "output_type": "stream",
     "text": [
      "1\n",
      "2\n",
      "3\n",
      "4\n",
      "5\n",
      "6\n",
      "7\n",
      "8\n",
      "9\n",
      "10\n"
     ]
    }
   ],
   "source": [
    "for i in A\n",
    "    print(i)\n",
    "    print(\"\\n\")\n",
    "end"
   ]
  },
  {
   "cell_type": "code",
   "execution_count": 5,
   "id": "14a6c3eb",
   "metadata": {},
   "outputs": [
    {
     "name": "stdout",
     "output_type": "stream",
     "text": [
      "1\n",
      "3\n",
      "5\n",
      "7\n",
      "9\n",
      "11\n",
      "13\n",
      "15\n",
      "17\n",
      "19\n"
     ]
    }
   ],
   "source": [
    "for i in range(1,20, step = 2)\n",
    "    print(i)\n",
    "    print(\"\\n\")\n",
    "end"
   ]
  },
  {
   "cell_type": "markdown",
   "id": "78ff7244",
   "metadata": {},
   "source": [
    "range komutunun kısa özelliği (başlangıç):(Adım):(bitiş)"
   ]
  },
  {
   "cell_type": "code",
   "execution_count": 6,
   "id": "54d133d5",
   "metadata": {},
   "outputs": [
    {
     "name": "stdout",
     "output_type": "stream",
     "text": [
      "1\n",
      "3\n",
      "5\n",
      "7\n",
      "9\n",
      "11\n",
      "13\n",
      "15\n",
      "17\n",
      "19\n"
     ]
    }
   ],
   "source": [
    "for i in 1:2:20\n",
    "    print(i)\n",
    "    print(\"\\n\")\n",
    "end"
   ]
  },
  {
   "cell_type": "code",
   "execution_count": 7,
   "id": "52154101",
   "metadata": {},
   "outputs": [
    {
     "name": "stdout",
     "output_type": "stream",
     "text": [
      "135791113151719"
     ]
    }
   ],
   "source": [
    "for i in 1:2:20\n",
    "    print(i)\n",
    "end"
   ]
  },
  {
   "cell_type": "code",
   "execution_count": 8,
   "id": "aac70e4a",
   "metadata": {},
   "outputs": [
    {
     "name": "stdout",
     "output_type": "stream",
     "text": [
      "135791113151719"
     ]
    }
   ],
   "source": [
    "for i in 1:2:20\n",
    "    print(i)\n",
    "end"
   ]
  },
  {
   "cell_type": "markdown",
   "id": "447da752",
   "metadata": {},
   "source": [
    "# while döngüsü"
   ]
  },
  {
   "cell_type": "code",
   "execution_count": 9,
   "id": "c206eb88",
   "metadata": {},
   "outputs": [
    {
     "name": "stdout",
     "output_type": "stream",
     "text": [
      "1\n",
      "2\n",
      "3\n",
      "4\n",
      "5\n",
      "6\n",
      "7\n",
      "8\n",
      "9\n",
      "10\n"
     ]
    }
   ],
   "source": [
    "i = 1 # sayaç değişkeni\n",
    "while i <= 10 # koşul\n",
    "    println(i) # ekrana yazdırma\n",
    "    i += 1 # sayaç arttırma\n",
    "end # döngü sonu"
   ]
  },
  {
   "cell_type": "markdown",
   "id": "9eba5d99",
   "metadata": {},
   "source": [
    "# if koşul ifadeleri "
   ]
  },
  {
   "cell_type": "code",
   "execution_count": 10,
   "id": "4fa37fcf",
   "metadata": {},
   "outputs": [
    {
     "name": "stdout",
     "output_type": "stream",
     "text": [
      "Bir sayı giriniz: stdin> 20\n",
      "\n",
      "Klavyeden girilen 20 sayısı; 10 sayısından büyüktür\n"
     ]
    }
   ],
   "source": [
    "print(\"Bir sayı giriniz: \")\n",
    "x = parse(Int, readline(stdin))\n",
    "print(\"\\n\")\n",
    "if (x > 10)\n",
    "    println(\"Klavyeden girilen $x sayısı; 10 sayısından büyüktür\")\n",
    "end\n",
    "\n",
    "# koşul sağlanmadığında program çıkış vermez bu bir dezavantaj\n",
    "# bunu else (eğer değilse) ile giderebiliriz "
   ]
  },
  {
   "cell_type": "code",
   "execution_count": 11,
   "id": "55032d65",
   "metadata": {},
   "outputs": [
    {
     "name": "stdout",
     "output_type": "stream",
     "text": [
      "Bir sayı giriniz: stdin> 5\n",
      "\n",
      "Klavyeden girilen 5 sayısı; 10 sayısından küçüktür\n"
     ]
    }
   ],
   "source": [
    "print(\"Bir sayı giriniz: \")\n",
    "x = parse(Int, readline(stdin))\n",
    "print(\"\\n\")\n",
    "\n",
    "if (x > 10)\n",
    "    println(\"Klavyeden girilen $x sayısı; 10 sayısından büyüktür\")\n",
    "else\n",
    "    println(\"Klavyeden girilen $x sayısı; 10 sayısından küçüktür\")\n",
    "end\n",
    "\n",
    "# peki ya girilen sayı tam olarak 10 a eşitse? \n",
    "# elif kullanmalıyız"
   ]
  },
  {
   "cell_type": "code",
   "execution_count": 12,
   "id": "c67b7c18",
   "metadata": {},
   "outputs": [
    {
     "name": "stdout",
     "output_type": "stream",
     "text": [
      "Bir sayı giriniz: stdin> 10\n",
      "\n",
      "Klavyeden girilen 10 sayısı; tam olarak 10 sayısına eşittir\n"
     ]
    }
   ],
   "source": [
    "print(\"Bir sayı giriniz: \")\n",
    "x = parse(Int, readline(stdin))\n",
    "print(\"\\n\")\n",
    "\n",
    "if (x > 10)\n",
    "    print(\"Klavyeden girilen $x sayısı; 10 sayısından büyüktür\")\n",
    "elseif (x < 10)\n",
    "    println(\"Klavyeden girilen $x sayısı; 10 sayısından küçüktür\")\n",
    "else\n",
    "    println(\"Klavyeden girilen $x sayısı; tam olarak 10 sayısına eşittir\")\n",
    "end"
   ]
  },
  {
   "cell_type": "markdown",
   "id": "76e4b4b4",
   "metadata": {},
   "source": [
    "# Klavyeden veri girişi için parse(Int, readline(stdin))"
   ]
  },
  {
   "cell_type": "markdown",
   "id": "8551020f",
   "metadata": {},
   "source": [
    "# girilen sayıya kadar olan tek sayılar"
   ]
  },
  {
   "cell_type": "code",
   "execution_count": 13,
   "id": "68d8a5ce",
   "metadata": {},
   "outputs": [
    {
     "name": "stdout",
     "output_type": "stream",
     "text": [
      "Bir sayı giriniz: stdin> 9\n",
      "\n",
      "girilen sayı değeri: 9\n",
      "1\n",
      "3\n",
      "5\n",
      "7\n",
      "9\n"
     ]
    }
   ],
   "source": [
    "print(\"Bir sayı giriniz: \")\n",
    "n = parse(Int, readline(stdin))\n",
    "print(\"\\n\")\n",
    "print(\"girilen sayı değeri: \", n)\n",
    "print(\"\\n\")\n",
    "for i in 1:n\n",
    "  if i % 2 != 0\n",
    "    println(i)\n",
    "  end\n",
    "end"
   ]
  },
  {
   "cell_type": "markdown",
   "id": "8d783141",
   "metadata": {},
   "source": [
    "# çift sayılar in Julia"
   ]
  },
  {
   "cell_type": "code",
   "execution_count": 14,
   "id": "9eccc2bd",
   "metadata": {},
   "outputs": [
    {
     "name": "stdout",
     "output_type": "stream",
     "text": [
      "Bir sayı giriniz: stdin> 12\n",
      "\n",
      "girilen sayı değeri: 12\n",
      "2\n",
      "4\n",
      "6\n",
      "8\n",
      "10\n",
      "12\n"
     ]
    }
   ],
   "source": [
    "print(\"Bir sayı giriniz: \")\n",
    "n = parse(Int, readline(stdin))\n",
    "print(\"\\n\")\n",
    "print(\"girilen sayı değeri: \", n)\n",
    "print(\"\\n\")\n",
    "for i in 1:n\n",
    "  if i % 2 == 0\n",
    "    println(i)\n",
    "  end\n",
    "end"
   ]
  },
  {
   "cell_type": "markdown",
   "id": "016bfbb8",
   "metadata": {},
   "source": [
    "# Asal sayı kontrolü"
   ]
  },
  {
   "cell_type": "code",
   "execution_count": 15,
   "id": "9738ef01",
   "metadata": {},
   "outputs": [
    {
     "name": "stdout",
     "output_type": "stream",
     "text": [
      "Sayıyı giriniz: stdin> 17\n",
      "\n",
      "Girilen sayı asal bir sayıdır.\n"
     ]
    }
   ],
   "source": [
    "function prime(num)    \n",
    "    asalmı = true\n",
    "        for i in 2:convert(Int64, round(num/2, digits = 0))\n",
    "            if num % i == 0\n",
    "                asalmı = false\n",
    "                break\n",
    "            end\n",
    "        end\n",
    "    return asalmı\n",
    "end\n",
    "\n",
    "print(\"Sayıyı giriniz: \")\n",
    "num = parse(Int, readline(stdin))\n",
    "    \n",
    "asalmı= prime(num)\n",
    "if num == 1\n",
    "    println(\"1 is neither prime nor composite.\")\n",
    "    \n",
    "elseif asalmı == true\n",
    "    print(\"\\n\")\n",
    "    println(\"Girilen sayı asal bir sayıdır.\")\n",
    "else\n",
    "    print(\"\\n\")\n",
    "    println(\"Girilen sayı asal sayı değildir.\")\n",
    "end"
   ]
  },
  {
   "cell_type": "markdown",
   "id": "b7e1e459",
   "metadata": {},
   "source": [
    "# Girilen sayıya kadar olan asal sayılar "
   ]
  },
  {
   "cell_type": "code",
   "execution_count": 16,
   "id": "f8032219",
   "metadata": {},
   "outputs": [
    {
     "name": "stdout",
     "output_type": "stream",
     "text": [
      "Enter the value of n: stdin> 17\n",
      "\n",
      "2\n",
      "3\n",
      "5\n",
      "7\n",
      "11\n",
      "13\n",
      "17\n"
     ]
    }
   ],
   "source": [
    "function prime(num)    \n",
    "    asalmı = true\n",
    "        for i in 2:convert(Int64, round(num/2, digits = 0))\n",
    "            if num % i == 0\n",
    "                asalmı = false\n",
    "                break\n",
    "            end\n",
    "        end\n",
    "    return asalmı\n",
    "end\n",
    "\n",
    "print(\"Enter the value of n: \")\n",
    "n = parse(Int, readline(stdin))\n",
    "print(\"\\n\")\n",
    "for i in 2:n\n",
    "    asalmı = prime(i)\n",
    "        if asalmı == true \n",
    "            println(i)\n",
    "        end  \n",
    "end"
   ]
  },
  {
   "cell_type": "markdown",
   "id": "6055f0c4",
   "metadata": {},
   "source": [
    "# Girilen sayı değerine kadar olan sayıların toplamı "
   ]
  },
  {
   "cell_type": "code",
   "execution_count": 17,
   "id": "3bea6180",
   "metadata": {},
   "outputs": [
    {
     "name": "stdout",
     "output_type": "stream",
     "text": [
      "Bir n sayısı giriniz : stdin> 40\n",
      "\n",
      "40 sayısına kadar olan sayıların toplamı: 820\n"
     ]
    }
   ],
   "source": [
    "function calculateSum(num)\n",
    "  sum = 0\n",
    "    for i in 1:convert(Int64, round(num, digits = 0))\n",
    "      sum = sum + i\n",
    "    end\n",
    "  return sum\n",
    "end\n",
    "\n",
    "print(\"Bir n sayısı giriniz : \")\n",
    "n = parse(Int, readline(stdin))\n",
    "\n",
    "\n",
    "sum = calculateSum(n)\n",
    "print(\"\\n\")\n",
    "println(\"$n sayısına kadar olan sayıların toplamı: $sum\")"
   ]
  },
  {
   "cell_type": "code",
   "execution_count": null,
   "id": "11133544",
   "metadata": {},
   "outputs": [],
   "source": []
  }
 ],
 "metadata": {
  "kernelspec": {
   "display_name": "Julia 1.9.2",
   "language": "julia",
   "name": "julia-1.9"
  },
  "language_info": {
   "file_extension": ".jl",
   "mimetype": "application/julia",
   "name": "julia",
   "version": "1.9.2"
  }
 },
 "nbformat": 4,
 "nbformat_minor": 5
}
